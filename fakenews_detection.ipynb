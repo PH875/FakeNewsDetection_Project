{
 "cells": [
  {
   "cell_type": "code",
   "execution_count": 95,
   "id": "a4041c02",
   "metadata": {},
   "outputs": [],
   "source": [
    "RUN_MINI_BATCH_COMPARISON=True #Turn off for faster run\n",
    "SAVE_PLOTS=False"
   ]
  },
  {
   "cell_type": "code",
   "execution_count": 96,
   "id": "a595a2fd",
   "metadata": {},
   "outputs": [
    {
     "name": "stdout",
     "output_type": "stream",
     "text": [
      "The autoreload extension is already loaded. To reload it, use:\n",
      "  %reload_ext autoreload\n"
     ]
    }
   ],
   "source": [
    "#Enable autoreloading of imported modules\n",
    "%load_ext autoreload\n",
    "%autoreload 2\n",
    "\n",
    "#Import required packages\n",
    "import sys,os\n",
    "import matplotlib.pyplot as plt\n",
    "import numpy as np\n",
    "import pandas as pd\n",
    "import scipy.sparse as sp\n",
    "from IPython.display import display\n",
    "\n",
    "#Add the repo root (one level up from this notebook) to sys.path\n",
    "sys.path.insert(0, os.path.abspath(\"../\"))"
   ]
  },
  {
   "cell_type": "code",
   "execution_count": 97,
   "id": "d1459f9a",
   "metadata": {},
   "outputs": [
    {
     "name": "stderr",
     "output_type": "stream",
     "text": [
      "[nltk_data] Downloading package wordnet to\n",
      "[nltk_data]     C:\\Users\\phili\\AppData\\Roaming\\nltk_data...\n",
      "[nltk_data]   Package wordnet is already up-to-date!\n",
      "[nltk_data] Downloading package averaged_perceptron_tagger_eng to\n",
      "[nltk_data]     C:\\Users\\phili\\AppData\\Roaming\\nltk_data...\n",
      "[nltk_data]   Package averaged_perceptron_tagger_eng is already up-to-\n",
      "[nltk_data]       date!\n",
      "[nltk_data] Downloading package punkt_tab to\n",
      "[nltk_data]     C:\\Users\\phili\\AppData\\Roaming\\nltk_data...\n",
      "[nltk_data]   Package punkt_tab is already up-to-date!\n"
     ]
    },
    {
     "data": {
      "text/plain": [
       "True"
      ]
     },
     "execution_count": 97,
     "metadata": {},
     "output_type": "execute_result"
    }
   ],
   "source": [
    "#Install necessary resources from nltk\n",
    "import nltk\n",
    "\n",
    "nltk.download('wordnet')\n",
    "nltk.download('averaged_perceptron_tagger_eng')\n",
    "nltk.download('punkt_tab')"
   ]
  },
  {
   "cell_type": "markdown",
   "id": "97ce4a31",
   "metadata": {},
   "source": [
    "## 1. Download data"
   ]
  },
  {
   "cell_type": "code",
   "execution_count": 98,
   "id": "16bb25c3",
   "metadata": {},
   "outputs": [
    {
     "name": "stdout",
     "output_type": "stream",
     "text": [
      "Load or download dataset...\n",
      "Warning: Looks like you're using an outdated `kagglehub` version, please consider updating (latest version: 0.3.12)\n",
      "Loading fake.csv ...\n",
      "Loading true.csv ...\n",
      "Done\n"
     ]
    }
   ],
   "source": [
    "import kagglehub\n",
    "\n",
    "#Download latest version of dataset\n",
    "print(\"Load or download dataset...\")\n",
    "path = kagglehub.dataset_download(\"clmentbisaillon/fake-and-real-news-dataset\") #path to downloaded dataset\n",
    "#   (if already downloaded, will not download again)\n",
    "\n",
    "fake_path=os.path.join(path, \"Fake.csv\")    #path to dataset with true news\n",
    "true_path=os.path.join(path, \"True.csv\")    #path to dataset with fake news\n",
    "\n",
    "#Read into dataframes\n",
    "print(\"Loading fake.csv ...\")\n",
    "fake_df=pd.read_csv(fake_path)\n",
    "print(\"Loading true.csv ...\")\n",
    "true_df=pd.read_csv(true_path)\n",
    "\n",
    "#Label data (1=true, 0=fakenews)\n",
    "true_df['label']=1\n",
    "fake_df['label']=0\n",
    "\n",
    "#Join dataframes\n",
    "df=pd.concat([true_df, fake_df])\n",
    "print(\"Done\")\n"
   ]
  },
  {
   "cell_type": "markdown",
   "id": "196c878e",
   "metadata": {},
   "source": [
    "## 2. Preprocess data"
   ]
  },
  {
   "cell_type": "code",
   "execution_count": 99,
   "id": "5ce44ff5",
   "metadata": {},
   "outputs": [],
   "source": [
    "from courselib.utils.splits import train_test_split\n",
    "\n",
    "training_data_fraction=.8\n",
    "\n",
    "#Split\n",
    "df_, train_df, test_df=train_test_split(df, training_data_fraction=training_data_fraction, class_column_name='label', return_numpy=False)"
   ]
  },
  {
   "cell_type": "code",
   "execution_count": 100,
   "id": "3f32f30e",
   "metadata": {},
   "outputs": [],
   "source": [
    "from sklearn.feature_extraction.text import TfidfVectorizer\n",
    "from courselib.utils.normalization import standardize_sparse_matrix\n",
    "\n",
    "column='title' #column of df to vectorize\n",
    "\n",
    "\n",
    "#Vectorize train, test split\n",
    "vectorizer=TfidfVectorizer()\n",
    "X_train=vectorizer.fit_transform((train_df[column]))\n",
    "X_test=vectorizer.transform((test_df[column]))\n",
    "X=sp.vstack([X_train, X_test])\n",
    "\n",
    "Y_train=train_df['label'].to_numpy()\n",
    "Y_test=test_df['label'].to_numpy()\n",
    "\n",
    "#-1, 1 labels for SVM\n",
    "Y_train_neg=Y_train.copy()\n",
    "Y_train_neg[Y_train_neg==0]=-1\n",
    "Y_test_neg=Y_test.copy()\n",
    "Y_test_neg[Y_test_neg==0]=-1\n",
    "\n",
    "#Apply additional z-score normalization (works better for svm)\n",
    "X, offset=standardize_sparse_matrix(X)\n",
    "X_train, X_test=X[:len(train_df)], X[len(train_df):]"
   ]
  },
  {
   "cell_type": "code",
   "execution_count": 101,
   "id": "b80d0ede",
   "metadata": {},
   "outputs": [
    {
     "data": {
      "text/plain": [
       "19601"
      ]
     },
     "execution_count": 101,
     "metadata": {},
     "output_type": "execute_result"
    }
   ],
   "source": [
    "num_features=X_train.shape[1] #number of extracted features from train_df[column]\n",
    "num_features"
   ]
  },
  {
   "cell_type": "markdown",
   "id": "ae0e9616",
   "metadata": {},
   "source": [
    "## 3. Comparison of different models"
   ]
  },
  {
   "cell_type": "code",
   "execution_count": 102,
   "id": "7e1cae2c",
   "metadata": {},
   "outputs": [],
   "source": [
    "from courselib.models.glm import LogisticRegression\n",
    "from courselib.models.svm import LinearSVM, BinaryKernelSVM\n",
    "from courselib.optimizers import GDOptimizer\n",
    "\n",
    "lr_LR=10 #learning rate LogisticRegression model\n",
    "lr_SVM=0.001 #learning rate LinearSVM model\n",
    "\n",
    "#Initialize optimizers\n",
    "optimizer_LR=GDOptimizer(lr_LR) #optimizer LogisticRegression\n",
    "optimizer_SVM=GDOptimizer(lr_SVM) #optimizer LinearSVM\n",
    "\n"
   ]
  },
  {
   "cell_type": "code",
   "execution_count": 103,
   "id": "1d544f9d",
   "metadata": {},
   "outputs": [
    {
     "data": {
      "text/html": [
       "<div>\n",
       "<style scoped>\n",
       "    .dataframe tbody tr th:only-of-type {\n",
       "        vertical-align: middle;\n",
       "    }\n",
       "\n",
       "    .dataframe tbody tr th {\n",
       "        vertical-align: top;\n",
       "    }\n",
       "\n",
       "    .dataframe thead th {\n",
       "        text-align: right;\n",
       "    }\n",
       "</style>\n",
       "<table border=\"1\" class=\"dataframe\">\n",
       "  <thead>\n",
       "    <tr style=\"text-align: right;\">\n",
       "      <th></th>\n",
       "      <th>model</th>\n",
       "      <th>batch size</th>\n",
       "      <th>train accuracy [%]</th>\n",
       "      <th>test accuracy [%]</th>\n",
       "      <th>training time [s]</th>\n",
       "    </tr>\n",
       "  </thead>\n",
       "  <tbody>\n",
       "    <tr>\n",
       "      <th>0</th>\n",
       "      <td>LogisticRegression</td>\n",
       "      <td>full</td>\n",
       "      <td>100.00</td>\n",
       "      <td>95.89</td>\n",
       "      <td>1.36</td>\n",
       "    </tr>\n",
       "    <tr>\n",
       "      <th>1</th>\n",
       "      <td>LinearSVM</td>\n",
       "      <td>full</td>\n",
       "      <td>99.39</td>\n",
       "      <td>95.72</td>\n",
       "      <td>1.51</td>\n",
       "    </tr>\n",
       "  </tbody>\n",
       "</table>\n",
       "</div>"
      ],
      "text/plain": [
       "                model batch size  train accuracy [%]  test accuracy [%]  \\\n",
       "0  LogisticRegression       full              100.00              95.89   \n",
       "1           LinearSVM       full               99.39              95.72   \n",
       "\n",
       "   training time [s]  \n",
       "0               1.36  \n",
       "1               1.51  "
      ]
     },
     "execution_count": 103,
     "metadata": {},
     "output_type": "execute_result"
    }
   ],
   "source": [
    "import time\n",
    "from courselib.utils.metrics import binary_accuracy\n",
    "\n",
    "num_epochs=100 #number of epochs\n",
    "bs=len(train_df) #batch size\n",
    "\n",
    "results=[]\n",
    "\n",
    "\n",
    "#Initialize models\n",
    "w=np.zeros(num_features) #initial weight\n",
    "b=0 #initial bias\n",
    "model_LR=LogisticRegression(w,b, optimizer=optimizer_LR, offset=offset)\n",
    "model_SVM=LinearSVM(w,b, optimizer=optimizer_SVM, offset=offset)\n",
    "\n",
    "#Training:\n",
    "metrics_dict_LR={'train accuracy': lambda y_pred,y_true: binary_accuracy(y_pred=y_pred, y_true=y_true, class_labels=[0,1]),\n",
    "                'test accuracy': lambda y_pred,y_true: binary_accuracy(model_LR.decision_function(X_test),Y_test,class_labels=[0,1])}\n",
    "metrics_dict_SVM={'train accuracy': lambda y_pred,y_true: binary_accuracy(y_pred=y_pred, y_true=y_true, class_labels=[-1,1]),\n",
    "                'test accuracy': lambda y_pred,y_true: binary_accuracy(model_SVM.decision_function(X_test),Y_test_neg,class_labels=[-1,1])}\n",
    "\n",
    "start_LR=time.time()\n",
    "metrics_history_LR=model_LR.fit(X_train, Y_train, num_epochs=num_epochs, batch_size=bs, compute_metrics=True, metrics_dict=metrics_dict_LR)\n",
    "end_LR=time.time()\n",
    "\n",
    "start_SVM=time.time()\n",
    "metrics_history_SVM=model_SVM.fit(X_train, Y_train_neg, num_epochs=num_epochs, batch_size=bs, compute_metrics=True, metrics_dict=metrics_dict_SVM)\n",
    "end_SVM=time.time()\n",
    "\n",
    "\n",
    "results.append({'model':'LogisticRegression', 'batch size': 'full' if bs==len(train_df) else bs,\n",
    "         'train accuracy [%]':round(metrics_history_LR['train accuracy'][-1],2),\n",
    "         'test accuracy [%]':round(metrics_history_LR['test accuracy'][-1],2), 'training time [s]': round(end_LR-start_LR,2)\n",
    "         })\n",
    "results.append({'model':'LinearSVM', 'batch size': 'full' if bs==len(train_df) else bs,\n",
    "                'train accuracy [%]':round(metrics_history_SVM['train accuracy'][-1],2),\n",
    "                'test accuracy [%]':round(metrics_history_SVM['test accuracy'][-1],2), 'training time [s]': round(end_SVM-start_SVM,2)\n",
    "         })\n",
    "results_df=pd.DataFrame(results)\n",
    "results_df"
   ]
  },
  {
   "cell_type": "code",
   "execution_count": null,
   "id": "a40f943a",
   "metadata": {},
   "outputs": [
    {
     "data": {
      "text/plain": [
       "Text(0.5, 1.0, 'Accuracy comparison')"
      ]
     },
     "execution_count": 104,
     "metadata": {},
     "output_type": "execute_result"
    },
    {
     "data": {
      "image/png": "[encoded data removed]",
      "text/plain": [
       "<Figure size 1000x500 with 1 Axes>"
      ]
     },
     "metadata": {},
     "output_type": "display_data"
    }
   ],
   "source": [
    "#Plot\n",
    "fig,ax=plt.subplots(figsize=(10,5))\n",
    "ax.plot(range(len(metrics_history_LR['train accuracy'])),metrics_history_LR['train accuracy'], label=\"train Logistic Regression\", color='red')\n",
    "ax.plot(range(len(metrics_history_LR['test accuracy'])),metrics_history_LR['test accuracy'], label=\"test Logistic Regression\", color=\"#B03030\")\n",
    "ax.plot(range(len(metrics_history_SVM['train accuracy'])),metrics_history_SVM['train accuracy'], label=\"train Linear SVM\", color='blue')\n",
    "ax.plot(range(len(metrics_history_SVM['test accuracy'])),metrics_history_LR['test accuracy'], label=\"test Linear SVM\", color=\"#8761F6\")\n",
    "ax.axhline(y=100, color='black', linestyle='--', label='100%')\n",
    "ax.legend()\n",
    "ax.set_xlabel('Iterations')\n",
    "ax.set_ylabel('Accuracy [%]')\n",
    "# Turn on minor ticks automatically\n",
    "ax.minorticks_on()\n",
    "\n",
    "# Major grid: solid, normal\n",
    "ax.grid(which='major', linestyle='-', linewidth=0.75)\n",
    "\n",
    "# Minor grid: dashed, light\n",
    "ax.grid(which='minor', linestyle='-', linewidth=0.5, color='lightgray', alpha=0.7)\n",
    "ax.set_title('Accuracy comparison')\n",
    "plt.show()\n"
   ]
  },
  {
   "cell_type": "markdown",
   "id": "7bc887f6",
   "metadata": {},
   "source": [
    "### 2.1. Comparison with mini batch"
   ]
  },
  {
   "cell_type": "code",
   "execution_count": 105,
   "id": "4e7f13af",
   "metadata": {},
   "outputs": [
    {
     "data": {
      "text/html": [
       "<div>\n",
       "<style scoped>\n",
       "    .dataframe tbody tr th:only-of-type {\n",
       "        vertical-align: middle;\n",
       "    }\n",
       "\n",
       "    .dataframe tbody tr th {\n",
       "        vertical-align: top;\n",
       "    }\n",
       "\n",
       "    .dataframe thead th {\n",
       "        text-align: right;\n",
       "    }\n",
       "</style>\n",
       "<table border=\"1\" class=\"dataframe\">\n",
       "  <thead>\n",
       "    <tr style=\"text-align: right;\">\n",
       "      <th></th>\n",
       "      <th>model</th>\n",
       "      <th>batch size</th>\n",
       "      <th>train accuracy [%]</th>\n",
       "      <th>test accuracy [%]</th>\n",
       "      <th>training time [s]</th>\n",
       "    </tr>\n",
       "  </thead>\n",
       "  <tbody>\n",
       "    <tr>\n",
       "      <th>0</th>\n",
       "      <td>LogisticRegression</td>\n",
       "      <td>full</td>\n",
       "      <td>100.00</td>\n",
       "      <td>95.89</td>\n",
       "      <td>1.36</td>\n",
       "    </tr>\n",
       "    <tr>\n",
       "      <th>1</th>\n",
       "      <td>LinearSVM</td>\n",
       "      <td>full</td>\n",
       "      <td>99.39</td>\n",
       "      <td>95.72</td>\n",
       "      <td>1.51</td>\n",
       "    </tr>\n",
       "    <tr>\n",
       "      <th>2</th>\n",
       "      <td>LogisticRegression</td>\n",
       "      <td>100</td>\n",
       "      <td>100.00</td>\n",
       "      <td>95.60</td>\n",
       "      <td>24.00</td>\n",
       "    </tr>\n",
       "    <tr>\n",
       "      <th>3</th>\n",
       "      <td>LinearSVM2</td>\n",
       "      <td>100</td>\n",
       "      <td>96.50</td>\n",
       "      <td>92.12</td>\n",
       "      <td>40.42</td>\n",
       "    </tr>\n",
       "  </tbody>\n",
       "</table>\n",
       "</div>"
      ],
      "text/plain": [
       "                model batch size  train accuracy [%]  test accuracy [%]  \\\n",
       "0  LogisticRegression       full              100.00              95.89   \n",
       "1           LinearSVM       full               99.39              95.72   \n",
       "2  LogisticRegression        100              100.00              95.60   \n",
       "3          LinearSVM2        100               96.50              92.12   \n",
       "\n",
       "   training time [s]  \n",
       "0               1.36  \n",
       "1               1.51  \n",
       "2              24.00  \n",
       "3              40.42  "
      ]
     },
     "metadata": {},
     "output_type": "display_data"
    }
   ],
   "source": [
    "if RUN_MINI_BATCH_COMPARISON:    \n",
    "       bs=100 #batch size to compare\n",
    "       lr_LR2=0.01 #learning rate LogisticRegression model (this learning rate performed better for mini batch)\n",
    "       lr_SVM2=0.001 #learning rate LinearSVM model\n",
    "\n",
    "       #Initialize optimizers\n",
    "       optimizer_LR2=GDOptimizer(lr_LR2) #optimizer LogisticRegression\n",
    "       optimizer_SVM2=GDOptimizer(lr_SVM2) #optimizer LinearSVM\n",
    "\n",
    "\n",
    "       model_LR2=LogisticRegression(w,b, optimizer=optimizer_LR2, offset=offset)\n",
    "       model_SVM2=LinearSVM(w,b, optimizer=optimizer_SVM2, offset=offset)\n",
    "\n",
    "\n",
    "       start_LR2=time.time()\n",
    "       model_LR2.fit(X_train, Y_train, num_epochs=num_epochs, batch_size=bs)\n",
    "       end_LR2=time.time()\n",
    "\n",
    "       start_SVM2=time.time()\n",
    "       model_SVM2.fit(X_train, Y_train_neg, num_epochs=num_epochs, batch_size=bs)\n",
    "       end_SVM2=time.time()\n",
    "\n",
    "\n",
    "       results.append({'model':'LogisticRegression', 'batch size': 'full' if bs==len(train_df) else bs,\n",
    "              'train accuracy [%]':round(binary_accuracy(model_LR2(X_train), Y_train, class_labels=[0,1]),2),\n",
    "              'test accuracy [%]':round(binary_accuracy(model_LR2(X_test), Y_test, class_labels=[0,1]),2), \n",
    "              'training time [s]': round(end_LR2-start_LR2,2)\n",
    "              })\n",
    "       results.append({'model':'LinearSVM2', 'batch size': 'full' if bs==len(train_df) else bs,\n",
    "              'train accuracy [%]':round(binary_accuracy(model_SVM2(X_train), Y_train_neg, class_labels=[-1,1]),2),\n",
    "              'test accuracy [%]':round(binary_accuracy(model_SVM2(X_test), Y_test_neg, class_labels=[-1,1]),2), \n",
    "              'training time [s]': round(end_SVM2-start_SVM2,2)\n",
    "              })\n",
    "       results_df=pd.DataFrame(results)\n",
    "       display(results_df)"
   ]
  },
  {
   "cell_type": "code",
   "execution_count": null,
   "id": "bbd0f59c",
   "metadata": {},
   "outputs": [],
   "source": []
  }
 ],
 "metadata": {
  "kernelspec": {
   "display_name": "fakenews_detection",
   "language": "python",
   "name": "python3"
  },
  "language_info": {
   "codemirror_mode": {
    "name": "ipython",
    "version": 3
   },
   "file_extension": ".py",
   "mimetype": "text/x-python",
   "name": "python",
   "nbconvert_exporter": "python",
   "pygments_lexer": "ipython3",
   "version": "3.10.18"
  }
 },
 "nbformat": 4,
 "nbformat_minor": 5
}
