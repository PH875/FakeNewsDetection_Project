{
 "cells": [
  {
   "cell_type": "code",
   "execution_count": 137,
   "id": "36f83e66",
   "metadata": {},
   "outputs": [
    {
     "name": "stdout",
     "output_type": "stream",
     "text": [
      "The autoreload extension is already loaded. To reload it, use:\n",
      "  %reload_ext autoreload\n"
     ]
    }
   ],
   "source": [
    "#Enable autoreloading of imported modules\n",
    "%load_ext autoreload\n",
    "%autoreload 2\n",
    "\n",
    "#Import required packages\n",
    "import sys,os\n",
    "import matplotlib.pyplot as plt\n",
    "import numpy as np\n",
    "import pandas as pd\n",
    "import kagglehub\n",
    "from sklearn.feature_extraction.text import TfidfVectorizer\n",
    "\n",
    "#Add the repo root (one level up from this notebook) to sys.path\n",
    "sys.path.insert(0, os.path.abspath(\"../\"))\n"
   ]
  },
  {
   "cell_type": "markdown",
   "id": "14911965",
   "metadata": {},
   "source": [
    "### 1. Load data"
   ]
  },
  {
   "cell_type": "code",
   "execution_count": 138,
   "id": "253519f6",
   "metadata": {},
   "outputs": [
    {
     "name": "stdout",
     "output_type": "stream",
     "text": [
      "Load or download dataset...\n",
      "Warning: Looks like you're using an outdated `kagglehub` version, please consider updating (latest version: 0.3.12)\n",
      "Done\n"
     ]
    }
   ],
   "source": [
    "#Download latest version of dataset\n",
    "print(\"Load or download dataset...\")\n",
    "path = kagglehub.dataset_download(\"clmentbisaillon/fake-and-real-news-dataset\") #path to downloaded dataset\n",
    "#   (if already downloaded, will not download again)\n",
    "\n",
    "fake_path=os.path.join(path, \"Fake.csv\")    #path to dataset with true news\n",
    "true_path=os.path.join(path, \"True.csv\")    #path to dataset with fake news\n",
    "print(\"Done\")"
   ]
  },
  {
   "cell_type": "code",
   "execution_count": 139,
   "id": "bfcdddf7",
   "metadata": {},
   "outputs": [],
   "source": [
    "#Read into dataframes\n",
    "fake_df=pd.read_csv(fake_path)\n",
    "true_df=pd.read_csv(true_path)\n",
    "\n",
    "#Label data (1=true, 0=fakenews)\n",
    "true_df['label']=1\n",
    "fake_df['label']=0\n",
    "\n",
    "#Join dataframes\n",
    "df=pd.concat([true_df, fake_df])\n"
   ]
  },
  {
   "cell_type": "code",
   "execution_count": 140,
   "id": "c4328221",
   "metadata": {},
   "outputs": [
    {
     "data": {
      "text/html": [
       "<div>\n",
       "<style scoped>\n",
       "    .dataframe tbody tr th:only-of-type {\n",
       "        vertical-align: middle;\n",
       "    }\n",
       "\n",
       "    .dataframe tbody tr th {\n",
       "        vertical-align: top;\n",
       "    }\n",
       "\n",
       "    .dataframe thead th {\n",
       "        text-align: right;\n",
       "    }\n",
       "</style>\n",
       "<table border=\"1\" class=\"dataframe\">\n",
       "  <thead>\n",
       "    <tr style=\"text-align: right;\">\n",
       "      <th></th>\n",
       "      <th>title</th>\n",
       "      <th>text</th>\n",
       "      <th>subject</th>\n",
       "      <th>date</th>\n",
       "      <th>label</th>\n",
       "    </tr>\n",
       "  </thead>\n",
       "  <tbody>\n",
       "    <tr>\n",
       "      <th>0</th>\n",
       "      <td>As U.S. budget fight looms, Republicans flip t...</td>\n",
       "      <td>WASHINGTON (Reuters) - The head of a conservat...</td>\n",
       "      <td>politicsNews</td>\n",
       "      <td>December 31, 2017</td>\n",
       "      <td>1</td>\n",
       "    </tr>\n",
       "    <tr>\n",
       "      <th>1</th>\n",
       "      <td>U.S. military to accept transgender recruits o...</td>\n",
       "      <td>WASHINGTON (Reuters) - Transgender people will...</td>\n",
       "      <td>politicsNews</td>\n",
       "      <td>December 29, 2017</td>\n",
       "      <td>1</td>\n",
       "    </tr>\n",
       "    <tr>\n",
       "      <th>2</th>\n",
       "      <td>Senior U.S. Republican senator: 'Let Mr. Muell...</td>\n",
       "      <td>WASHINGTON (Reuters) - The special counsel inv...</td>\n",
       "      <td>politicsNews</td>\n",
       "      <td>December 31, 2017</td>\n",
       "      <td>1</td>\n",
       "    </tr>\n",
       "    <tr>\n",
       "      <th>3</th>\n",
       "      <td>FBI Russia probe helped by Australian diplomat...</td>\n",
       "      <td>WASHINGTON (Reuters) - Trump campaign adviser ...</td>\n",
       "      <td>politicsNews</td>\n",
       "      <td>December 30, 2017</td>\n",
       "      <td>1</td>\n",
       "    </tr>\n",
       "    <tr>\n",
       "      <th>4</th>\n",
       "      <td>Trump wants Postal Service to charge 'much mor...</td>\n",
       "      <td>SEATTLE/WASHINGTON (Reuters) - President Donal...</td>\n",
       "      <td>politicsNews</td>\n",
       "      <td>December 29, 2017</td>\n",
       "      <td>1</td>\n",
       "    </tr>\n",
       "    <tr>\n",
       "      <th>...</th>\n",
       "      <td>...</td>\n",
       "      <td>...</td>\n",
       "      <td>...</td>\n",
       "      <td>...</td>\n",
       "      <td>...</td>\n",
       "    </tr>\n",
       "    <tr>\n",
       "      <th>23476</th>\n",
       "      <td>McPain: John McCain Furious That Iran Treated ...</td>\n",
       "      <td>21st Century Wire says As 21WIRE reported earl...</td>\n",
       "      <td>Middle-east</td>\n",
       "      <td>January 16, 2016</td>\n",
       "      <td>0</td>\n",
       "    </tr>\n",
       "    <tr>\n",
       "      <th>23477</th>\n",
       "      <td>JUSTICE? Yahoo Settles E-mail Privacy Class-ac...</td>\n",
       "      <td>21st Century Wire says It s a familiar theme. ...</td>\n",
       "      <td>Middle-east</td>\n",
       "      <td>January 16, 2016</td>\n",
       "      <td>0</td>\n",
       "    </tr>\n",
       "    <tr>\n",
       "      <th>23478</th>\n",
       "      <td>Sunnistan: US and Allied ‘Safe Zone’ Plan to T...</td>\n",
       "      <td>Patrick Henningsen  21st Century WireRemember ...</td>\n",
       "      <td>Middle-east</td>\n",
       "      <td>January 15, 2016</td>\n",
       "      <td>0</td>\n",
       "    </tr>\n",
       "    <tr>\n",
       "      <th>23479</th>\n",
       "      <td>How to Blow $700 Million: Al Jazeera America F...</td>\n",
       "      <td>21st Century Wire says Al Jazeera America will...</td>\n",
       "      <td>Middle-east</td>\n",
       "      <td>January 14, 2016</td>\n",
       "      <td>0</td>\n",
       "    </tr>\n",
       "    <tr>\n",
       "      <th>23480</th>\n",
       "      <td>10 U.S. Navy Sailors Held by Iranian Military ...</td>\n",
       "      <td>21st Century Wire says As 21WIRE predicted in ...</td>\n",
       "      <td>Middle-east</td>\n",
       "      <td>January 12, 2016</td>\n",
       "      <td>0</td>\n",
       "    </tr>\n",
       "  </tbody>\n",
       "</table>\n",
       "<p>44898 rows × 5 columns</p>\n",
       "</div>"
      ],
      "text/plain": [
       "                                                   title  \\\n",
       "0      As U.S. budget fight looms, Republicans flip t...   \n",
       "1      U.S. military to accept transgender recruits o...   \n",
       "2      Senior U.S. Republican senator: 'Let Mr. Muell...   \n",
       "3      FBI Russia probe helped by Australian diplomat...   \n",
       "4      Trump wants Postal Service to charge 'much mor...   \n",
       "...                                                  ...   \n",
       "23476  McPain: John McCain Furious That Iran Treated ...   \n",
       "23477  JUSTICE? Yahoo Settles E-mail Privacy Class-ac...   \n",
       "23478  Sunnistan: US and Allied ‘Safe Zone’ Plan to T...   \n",
       "23479  How to Blow $700 Million: Al Jazeera America F...   \n",
       "23480  10 U.S. Navy Sailors Held by Iranian Military ...   \n",
       "\n",
       "                                                    text       subject  \\\n",
       "0      WASHINGTON (Reuters) - The head of a conservat...  politicsNews   \n",
       "1      WASHINGTON (Reuters) - Transgender people will...  politicsNews   \n",
       "2      WASHINGTON (Reuters) - The special counsel inv...  politicsNews   \n",
       "3      WASHINGTON (Reuters) - Trump campaign adviser ...  politicsNews   \n",
       "4      SEATTLE/WASHINGTON (Reuters) - President Donal...  politicsNews   \n",
       "...                                                  ...           ...   \n",
       "23476  21st Century Wire says As 21WIRE reported earl...   Middle-east   \n",
       "23477  21st Century Wire says It s a familiar theme. ...   Middle-east   \n",
       "23478  Patrick Henningsen  21st Century WireRemember ...   Middle-east   \n",
       "23479  21st Century Wire says Al Jazeera America will...   Middle-east   \n",
       "23480  21st Century Wire says As 21WIRE predicted in ...   Middle-east   \n",
       "\n",
       "                     date  label  \n",
       "0      December 31, 2017       1  \n",
       "1      December 29, 2017       1  \n",
       "2      December 31, 2017       1  \n",
       "3      December 30, 2017       1  \n",
       "4      December 29, 2017       1  \n",
       "...                   ...    ...  \n",
       "23476    January 16, 2016      0  \n",
       "23477    January 16, 2016      0  \n",
       "23478    January 15, 2016      0  \n",
       "23479    January 14, 2016      0  \n",
       "23480    January 12, 2016      0  \n",
       "\n",
       "[44898 rows x 5 columns]"
      ]
     },
     "execution_count": 140,
     "metadata": {},
     "output_type": "execute_result"
    }
   ],
   "source": [
    "df"
   ]
  },
  {
   "cell_type": "markdown",
   "id": "f5353e92",
   "metadata": {},
   "source": [
    "### 2. Preprocess data"
   ]
  },
  {
   "cell_type": "code",
   "execution_count": 141,
   "id": "bbf0f53a",
   "metadata": {},
   "outputs": [],
   "source": [
    "max_terms=1000 #Maximal number of terms to consider\n",
    "\n",
    "corpus=list(df['title'])\n",
    "vectorizer=TfidfVectorizer(max_features=1000)\n",
    "X_sparse=vectorizer.fit_transform(corpus)\n",
    "\n",
    "#Convert to numpy\n",
    "X=X_sparse.toarray()\n",
    "Y=df['label'].to_numpy()"
   ]
  },
  {
   "cell_type": "markdown",
   "id": "86ab7a0e",
   "metadata": {},
   "source": [
    "### 3. First (Test) Training and Evaluation"
   ]
  },
  {
   "cell_type": "code",
   "execution_count": 142,
   "id": "db08d50e",
   "metadata": {},
   "outputs": [],
   "source": [
    "#Split into train and test data\n",
    "from courselib.utils.splits import train_test_split_np\n",
    "\n",
    "training_data_fraction=.8\n",
    "\n",
    "X_train,Y_train, X_test, Y_test=train_test_split_np(X,Y, training_data_fraction)"
   ]
  },
  {
   "cell_type": "code",
   "execution_count": 143,
   "id": "0c7ee548",
   "metadata": {},
   "outputs": [],
   "source": [
    "# Initialize model\n",
    "from courselib.models.glm import LogisticRegression\n",
    "from courselib.optimizers import GDOptimizer\n",
    "\n",
    "lr=10 # learining rate\n",
    "w=np.zeros(X.shape[1]) # initial weights\n",
    "b=0 # initial bias\n",
    "\n",
    "optimizer=GDOptimizer(learning_rate=lr)\n",
    "model=LogisticRegression(w,b,optimizer)"
   ]
  },
  {
   "cell_type": "code",
   "execution_count": 144,
   "id": "baa875d5",
   "metadata": {},
   "outputs": [],
   "source": [
    "#Train model\n",
    "epochs=100 # number of epochs\n",
    "bs=100 # batch size\n",
    "\n",
    "model.fit(X_train, Y_train, num_epochs=epochs, batch_size=bs)"
   ]
  },
  {
   "cell_type": "code",
   "execution_count": 145,
   "id": "aa6133ab",
   "metadata": {},
   "outputs": [
    {
     "name": "stdout",
     "output_type": "stream",
     "text": [
      "Final train accuracy  95.34%\n",
      "Final test accuracy  94.16%\n"
     ]
    }
   ],
   "source": [
    "#Evaluate\n",
    "from courselib.utils.metrics import binary_accuracy\n",
    "\n",
    "print(f\"Final train accuracy {binary_accuracy(y_pred=model(X_train), y_true=Y_train, class_labels=[0,1]): .2f}%\")\n",
    "print(f\"Final test accuracy {binary_accuracy(y_pred=model(X_test), y_true=Y_test, class_labels=[0,1]): .2f}%\")"
   ]
  }
 ],
 "metadata": {
  "kernelspec": {
   "display_name": "fakenews_detection",
   "language": "python",
   "name": "python3"
  },
  "language_info": {
   "codemirror_mode": {
    "name": "ipython",
    "version": 3
   },
   "file_extension": ".py",
   "mimetype": "text/x-python",
   "name": "python",
   "nbconvert_exporter": "python",
   "pygments_lexer": "ipython3",
   "version": "3.10.18"
  }
 },
 "nbformat": 4,
 "nbformat_minor": 5
}
