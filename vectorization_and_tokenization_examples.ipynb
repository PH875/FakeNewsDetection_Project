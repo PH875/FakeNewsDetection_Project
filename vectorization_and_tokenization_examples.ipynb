{
 "cells": [
  {
   "cell_type": "code",
   "execution_count": 1,
   "id": "f06fa05e",
   "metadata": {},
   "outputs": [],
   "source": [
    "#Enable autoreloading of imported modules\n",
    "%load_ext autoreload\n",
    "%autoreload 2\n",
    "\n",
    "#Import required packages\n",
    "import sys,os\n",
    "import matplotlib.pyplot as plt\n",
    "import numpy as np\n",
    "import pandas as pd\n",
    "import kagglehub\n",
    "from sklearn.feature_extraction.text import TfidfVectorizer\n",
    "\n",
    "#Add the repo root (one level up from this notebook) to sys.path\n",
    "sys.path.insert(0, os.path.abspath(\"../\"))"
   ]
  },
  {
   "cell_type": "code",
   "execution_count": 2,
   "id": "e7c3a250",
   "metadata": {},
   "outputs": [
    {
     "name": "stderr",
     "output_type": "stream",
     "text": [
      "[nltk_data] Downloading package wordnet to\n",
      "[nltk_data]     C:\\Users\\phili\\AppData\\Roaming\\nltk_data...\n",
      "[nltk_data]   Package wordnet is already up-to-date!\n",
      "[nltk_data] Downloading package averaged_perceptron_tagger_eng to\n",
      "[nltk_data]     C:\\Users\\phili\\AppData\\Roaming\\nltk_data...\n",
      "[nltk_data]   Package averaged_perceptron_tagger_eng is already up-to-\n",
      "[nltk_data]       date!\n",
      "[nltk_data] Downloading package stopwords to\n",
      "[nltk_data]     C:\\Users\\phili\\AppData\\Roaming\\nltk_data...\n",
      "[nltk_data]   Package stopwords is already up-to-date!\n",
      "[nltk_data] Downloading package punkt_tab to\n",
      "[nltk_data]     C:\\Users\\phili\\AppData\\Roaming\\nltk_data...\n",
      "[nltk_data]   Package punkt_tab is already up-to-date!\n"
     ]
    },
    {
     "data": {
      "text/plain": [
       "True"
      ]
     },
     "execution_count": 2,
     "metadata": {},
     "output_type": "execute_result"
    }
   ],
   "source": [
    "#Install necessary resources from nltk\n",
    "import nltk\n",
    "\n",
    "nltk.download('wordnet')\n",
    "nltk.download('averaged_perceptron_tagger_eng')\n",
    "nltk.download('stopwords')\n",
    "nltk.download('punkt_tab')\n"
   ]
  },
  {
   "cell_type": "markdown",
   "id": "81ab1c0a",
   "metadata": {},
   "source": [
    "### Load data"
   ]
  },
  {
   "cell_type": "code",
   "execution_count": 35,
   "id": "312d4f7b",
   "metadata": {},
   "outputs": [
    {
     "name": "stdout",
     "output_type": "stream",
     "text": [
      "Load or download dataset...\n",
      "Warning: Looks like you're using an outdated `kagglehub` version, please consider updating (latest version: 0.3.12)\n",
      "Loading fake.csv ...\n",
      "Loading true.csv ...\n",
      "Done\n"
     ]
    }
   ],
   "source": [
    "#Download latest version of dataset\n",
    "print(\"Load or download dataset...\")\n",
    "path = kagglehub.dataset_download(\"clmentbisaillon/fake-and-real-news-dataset\") #path to downloaded dataset\n",
    "#   (if already downloaded, will not download again)\n",
    "\n",
    "fake_path=os.path.join(path, \"Fake.csv\")    #path to dataset with true news\n",
    "true_path=os.path.join(path, \"True.csv\")    #path to dataset with fake news\n",
    "\n",
    "#Read into dataframes\n",
    "print(\"Loading fake.csv ...\")\n",
    "fake_df=pd.read_csv(fake_path)\n",
    "print(\"Loading true.csv ...\")\n",
    "true_df=pd.read_csv(true_path)\n",
    "\n",
    "#Label data (1=true, 0=fakenews)\n",
    "true_df['label']=1\n",
    "fake_df['label']=0\n",
    "\n",
    "#Join dataframes\n",
    "df=pd.concat([true_df, fake_df])\n",
    "print(\"Done\")\n",
    "\n",
    "\n",
    "#Convert labels to numpy\n",
    "Y=df['label'].to_numpy()"
   ]
  },
  {
   "cell_type": "markdown",
   "id": "5dbefdfb",
   "metadata": {},
   "source": [
    "## 1.  Examples: Tokenizers"
   ]
  },
  {
   "cell_type": "code",
   "execution_count": 5,
   "id": "c2775e4b",
   "metadata": {},
   "outputs": [],
   "source": [
    "from vectorization_and_tokenization import stemming_tokenizer, basic_word_tokenizer, lemmatization_tokenizer"
   ]
  },
  {
   "cell_type": "code",
   "execution_count": 5,
   "id": "6727dfa3",
   "metadata": {},
   "outputs": [
    {
     "data": {
      "text/plain": [
       "'WASHINGTON (Reuters) - The head of a conservative Republican faction in the U.S. Congress, who voted this month for a huge expansion of the national debt to pay for tax cuts, called himself a “fiscal conservative” on Sunday and urged budget restraint in 2018. In keeping with a sharp pivot under way among Republicans, U.S. Representative Mark Meadows, speaking on CBS’ “Face the Nation,” drew a hard line on federal spending, which lawmakers are bracing to do battle over in January. When they return from the holidays on Wednesday, lawmakers will begin trying to pass a federal budget in a fight likely to be linked to other issues, such as immigration policy, even as the November congressional election campaigns approach in which Republicans will seek to keep control of Congress. President Donald Trump and his Republicans want a big budget increase in military spending, while Democrats also want proportional increases for non-defense “discretionary” spending on programs that support education, scientific research, infrastructure, public health and environmental protection. “The (Trump) administration has already been willing to say: ‘We’re going to increase non-defense discretionary spending ... by about 7 percent,’” Meadows, chairman of the small but influential House Freedom Caucus, said on the program. “Now, Democrats are saying that’s not enough, we need to give the government a pay raise of 10 to 11 percent. For a fiscal conservative, I don’t see where the rationale is. ... Eventually you run out of other people’s money,” he said. Meadows was among Republicans who voted in late December for their party’s debt-financed tax overhaul, which is expected to balloon the federal budget deficit and add about $1.5 trillion over 10 years to the $20 trillion national debt. “It’s interesting to hear Mark talk about fiscal responsibility,” Democratic U.S. Representative Joseph Crowley said on CBS. Crowley said the Republican tax bill would require the  United States to borrow $1.5 trillion, to be paid off by future generations, to finance tax cuts for corporations and the rich. “This is one of the least ... fiscally responsible bills we’ve ever seen passed in the history of the House of Representatives. I think we’re going to be paying for this for many, many years to come,” Crowley said. Republicans insist the tax package, the biggest U.S. tax overhaul in more than 30 years,  will boost the economy and job growth. House Speaker Paul Ryan, who also supported the tax bill, recently went further than Meadows, making clear in a radio interview that welfare or “entitlement reform,” as the party often calls it, would be a top Republican priority in 2018. In Republican parlance, “entitlement” programs mean food stamps, housing assistance, Medicare and Medicaid health insurance for the elderly, poor and disabled, as well as other programs created by Washington to assist the needy. Democrats seized on Ryan’s early December remarks, saying they showed Republicans would try to pay for their tax overhaul by seeking spending cuts for social programs. But the goals of House Republicans may have to take a back seat to the Senate, where the votes of some Democrats will be needed to approve a budget and prevent a government shutdown. Democrats will use their leverage in the Senate, which Republicans narrowly control, to defend both discretionary non-defense programs and social spending, while tackling the issue of the “Dreamers,” people brought illegally to the country as children. Trump in September put a March 2018 expiration date on the Deferred Action for Childhood Arrivals, or DACA, program, which protects the young immigrants from deportation and provides them with work permits. The president has said in recent Twitter messages he wants funding for his proposed Mexican border wall and other immigration law changes in exchange for agreeing to help the Dreamers. Representative Debbie Dingell told CBS she did not favor linking that issue to other policy objectives, such as wall funding. “We need to do DACA clean,” she said.  On Wednesday, Trump aides will meet with congressional leaders to discuss those issues. That will be followed by a weekend of strategy sessions for Trump and Republican leaders on Jan. 6 and 7, the White House said. Trump was also scheduled to meet on Sunday with Florida Republican Governor Rick Scott, who wants more emergency aid. The House has passed an $81 billion aid package after hurricanes in Florida, Texas and Puerto Rico, and wildfires in California. The package far exceeded the $44 billion requested by the Trump administration. The Senate has not yet voted on the aid. '"
      ]
     },
     "execution_count": 5,
     "metadata": {},
     "output_type": "execute_result"
    }
   ],
   "source": [
    "text=df['text'].iloc[0]\n",
    "text"
   ]
  },
  {
   "cell_type": "code",
   "execution_count": 6,
   "id": "f3ee4427",
   "metadata": {},
   "outputs": [
    {
     "name": "stdout",
     "output_type": "stream",
     "text": [
      "['washington', 'reuters', 'the', 'head', 'of', 'a', 'conservative', 'republican', 'faction', 'in', 'the', 'u.s.', 'congress', 'who', 'voted', 'this', 'month', 'for', 'a', 'huge', 'expansion', 'of', 'the', 'national', 'debt', 'to', 'pay', 'for', 'tax', 'cuts', 'called', 'himself', 'a', 'fiscal', 'conservative', 'on', 'sunday', 'and', 'urged', 'budget', 'restraint', 'in', '2018', 'in', 'keeping', 'with', 'a', 'sharp', 'pivot', 'under', 'way', 'among', 'republicans', 'u.s.', 'representative', 'mark', 'meadows', 'speaking', 'on', 'cbs', 'face', 'the', 'nation', 'drew', 'a', 'hard', 'line', 'on', 'federal', 'spending', 'which', 'lawmakers', 'are', 'bracing', 'to', 'do', 'battle', 'over', 'in', 'january', 'when', 'they', 'return', 'from', 'the', 'holidays', 'on', 'wednesday', 'lawmakers', 'will', 'begin', 'trying', 'to', 'pass', 'a', 'federal', 'budget', 'in', 'a', 'fight', 'likely', 'to', 'be', 'linked', 'to', 'other', 'issues', 'such', 'as', 'immigration', 'policy', 'even', 'as', 'the', 'november', 'congressional', 'election', 'campaigns', 'approach', 'in', 'which', 'republicans', 'will', 'seek', 'to', 'keep', 'control', 'of', 'congress', 'president', 'donald', 'trump', 'and', 'his', 'republicans', 'want', 'a', 'big', 'budget', 'increase', 'in', 'military', 'spending', 'while', 'democrats', 'also', 'want', 'proportional', 'increases', 'for', 'non-defense', 'discretionary', 'spending', 'on', 'programs', 'that', 'support', 'education', 'scientific', 'research', 'infrastructure', 'public', 'health', 'and', 'environmental', 'protection', 'the', 'trump', 'administration', 'has', 'already', 'been', 'willing', 'to', 'say', '‘', 'we', 're', 'going', 'to', 'increase', 'non-defense', 'discretionary', 'spending', '...', 'by', 'about', '7', 'percent', 'meadows', 'chairman', 'of', 'the', 'small', 'but', 'influential', 'house', 'freedom', 'caucus', 'said', 'on', 'the', 'program', 'now', 'democrats', 'are', 'saying', 'that', 's', 'not', 'enough', 'we', 'need', 'to', 'give', 'the', 'government', 'a', 'pay', 'raise', 'of', '10', 'to', '11', 'percent', 'for', 'a', 'fiscal', 'conservative', 'i', 'don', 't', 'see', 'where', 'the', 'rationale', 'is', '...', 'eventually', 'you', 'run', 'out', 'of', 'other', 'people', 's', 'money', 'he', 'said', 'meadows', 'was', 'among', 'republicans', 'who', 'voted', 'in', 'late', 'december', 'for', 'their', 'party', 's', 'debt-financed', 'tax', 'overhaul', 'which', 'is', 'expected', 'to', 'balloon', 'the', 'federal', 'budget', 'deficit', 'and', 'add', 'about', '1.5', 'trillion', 'over', '10', 'years', 'to', 'the', '20', 'trillion', 'national', 'debt', 'it', 's', 'interesting', 'to', 'hear', 'mark', 'talk', 'about', 'fiscal', 'responsibility', 'democratic', 'u.s.', 'representative', 'joseph', 'crowley', 'said', 'on', 'cbs', 'crowley', 'said', 'the', 'republican', 'tax', 'bill', 'would', 'require', 'the', 'united', 'states', 'to', 'borrow', '1.5', 'trillion', 'to', 'be', 'paid', 'off', 'by', 'future', 'generations', 'to', 'finance', 'tax', 'cuts', 'for', 'corporations', 'and', 'the', 'rich', 'this', 'is', 'one', 'of', 'the', 'least', '...', 'fiscally', 'responsible', 'bills', 'we', 've', 'ever', 'seen', 'passed', 'in', 'the', 'history', 'of', 'the', 'house', 'of', 'representatives', 'i', 'think', 'we', 're', 'going', 'to', 'be', 'paying', 'for', 'this', 'for', 'many', 'many', 'years', 'to', 'come', 'crowley', 'said', 'republicans', 'insist', 'the', 'tax', 'package', 'the', 'biggest', 'u.s.', 'tax', 'overhaul', 'in', 'more', 'than', '30', 'years', 'will', 'boost', 'the', 'economy', 'and', 'job', 'growth', 'house', 'speaker', 'paul', 'ryan', 'who', 'also', 'supported', 'the', 'tax', 'bill', 'recently', 'went', 'further', 'than', 'meadows', 'making', 'clear', 'in', 'a', 'radio', 'interview', 'that', 'welfare', 'or', 'entitlement', 'reform', 'as', 'the', 'party', 'often', 'calls', 'it', 'would', 'be', 'a', 'top', 'republican', 'priority', 'in', '2018', 'in', 'republican', 'parlance', 'entitlement', 'programs', 'mean', 'food', 'stamps', 'housing', 'assistance', 'medicare', 'and', 'medicaid', 'health', 'insurance', 'for', 'the', 'elderly', 'poor', 'and', 'disabled', 'as', 'well', 'as', 'other', 'programs', 'created', 'by', 'washington', 'to', 'assist', 'the', 'needy', 'democrats', 'seized', 'on', 'ryan', 's', 'early', 'december', 'remarks', 'saying', 'they', 'showed', 'republicans', 'would', 'try', 'to', 'pay', 'for', 'their', 'tax', 'overhaul', 'by', 'seeking', 'spending', 'cuts', 'for', 'social', 'programs', 'but', 'the', 'goals', 'of', 'house', 'republicans', 'may', 'have', 'to', 'take', 'a', 'back', 'seat', 'to', 'the', 'senate', 'where', 'the', 'votes', 'of', 'some', 'democrats', 'will', 'be', 'needed', 'to', 'approve', 'a', 'budget', 'and', 'prevent', 'a', 'government', 'shutdown', 'democrats', 'will', 'use', 'their', 'leverage', 'in', 'the', 'senate', 'which', 'republicans', 'narrowly', 'control', 'to', 'defend', 'both', 'discretionary', 'non-defense', 'programs', 'and', 'social', 'spending', 'while', 'tackling', 'the', 'issue', 'of', 'the', 'dreamers', 'people', 'brought', 'illegally', 'to', 'the', 'country', 'as', 'children', 'trump', 'in', 'september', 'put', 'a', 'march', '2018', 'expiration', 'date', 'on', 'the', 'deferred', 'action', 'for', 'childhood', 'arrivals', 'or', 'daca', 'program', 'which', 'protects', 'the', 'young', 'immigrants', 'from', 'deportation', 'and', 'provides', 'them', 'with', 'work', 'permits', 'the', 'president', 'has', 'said', 'in', 'recent', 'twitter', 'messages', 'he', 'wants', 'funding', 'for', 'his', 'proposed', 'mexican', 'border', 'wall', 'and', 'other', 'immigration', 'law', 'changes', 'in', 'exchange', 'for', 'agreeing', 'to', 'help', 'the', 'dreamers', 'representative', 'debbie', 'dingell', 'told', 'cbs', 'she', 'did', 'not', 'favor', 'linking', 'that', 'issue', 'to', 'other', 'policy', 'objectives', 'such', 'as', 'wall', 'funding', 'we', 'need', 'to', 'do', 'daca', 'clean', 'she', 'said', 'on', 'wednesday', 'trump', 'aides', 'will', 'meet', 'with', 'congressional', 'leaders', 'to', 'discuss', 'those', 'issues', 'that', 'will', 'be', 'followed', 'by', 'a', 'weekend', 'of', 'strategy', 'sessions', 'for', 'trump', 'and', 'republican', 'leaders', 'on', 'jan.', '6', 'and', '7', 'the', 'white', 'house', 'said', 'trump', 'was', 'also', 'scheduled', 'to', 'meet', 'on', 'sunday', 'with', 'florida', 'republican', 'governor', 'rick', 'scott', 'who', 'wants', 'more', 'emergency', 'aid', 'the', 'house', 'has', 'passed', 'an', '81', 'billion', 'aid', 'package', 'after', 'hurricanes', 'in', 'florida', 'texas', 'and', 'puerto', 'rico', 'and', 'wildfires', 'in', 'california', 'the', 'package', 'far', 'exceeded', 'the', '44', 'billion', 'requested', 'by', 'the', 'trump', 'administration', 'the', 'senate', 'has', 'not', 'yet', 'voted', 'on', 'the', 'aid']\n",
      "['washington', 'reuters', 'the', 'head', 'of', 'a', 'conservative', 'republican', 'faction', 'in', 'the', 'u.s.', 'congress', 'who', 'vote', 'this', 'month', 'for', 'a', 'huge', 'expansion', 'of', 'the', 'national', 'debt', 'to', 'pay', 'for', 'tax', 'cut', 'call', 'himself', 'a', 'fiscal', 'conservative', 'on', 'sunday', 'and', 'urge', 'budget', 'restraint', 'in', '2018', 'in', 'keep', 'with', 'a', 'sharp', 'pivot', 'under', 'way', 'among', 'republicans', 'u.s.', 'representative', 'mark', 'meadow', 'speak', 'on', 'cbs', 'face', 'the', 'nation', 'draw', 'a', 'hard', 'line', 'on', 'federal', 'spending', 'which', 'lawmaker', 'be', 'brace', 'to', 'do', 'battle', 'over', 'in', 'january', 'when', 'they', 'return', 'from', 'the', 'holiday', 'on', 'wednesday', 'lawmaker', 'will', 'begin', 'try', 'to', 'pass', 'a', 'federal', 'budget', 'in', 'a', 'fight', 'likely', 'to', 'be', 'link', 'to', 'other', 'issue', 'such', 'a', 'immigration', 'policy', 'even', 'a', 'the', 'november', 'congressional', 'election', 'campaign', 'approach', 'in', 'which', 'republican', 'will', 'seek', 'to', 'keep', 'control', 'of', 'congress', 'president', 'donald', 'trump', 'and', 'his', 'republican', 'want', 'a', 'big', 'budget', 'increase', 'in', 'military', 'spending', 'while', 'democrat', 'also', 'want', 'proportional', 'increase', 'for', 'non-defense', 'discretionary', 'spending', 'on', 'program', 'that', 'support', 'education', 'scientific', 'research', 'infrastructure', 'public', 'health', 'and', 'environmental', 'protection', 'the', 'trump', 'administration', 'have', 'already', 'be', 'willing', 'to', 'say', '‘', 'we', 're', 'go', 'to', 'increase', 'non-defense', 'discretionary', 'spending', '...', 'by', 'about', '7', 'percent', 'meadow', 'chairman', 'of', 'the', 'small', 'but', 'influential', 'house', 'freedom', 'caucus', 'say', 'on', 'the', 'program', 'now', 'democrats', 'be', 'say', 'that', 's', 'not', 'enough', 'we', 'need', 'to', 'give', 'the', 'government', 'a', 'pay', 'raise', 'of', '10', 'to', '11', 'percent', 'for', 'a', 'fiscal', 'conservative', 'i', 'don', 't', 'see', 'where', 'the', 'rationale', 'be', '...', 'eventually', 'you', 'run', 'out', 'of', 'other', 'people', 's', 'money', 'he', 'say', 'meadow', 'be', 'among', 'republican', 'who', 'vote', 'in', 'late', 'december', 'for', 'their', 'party', 's', 'debt-financed', 'tax', 'overhaul', 'which', 'be', 'expect', 'to', 'balloon', 'the', 'federal', 'budget', 'deficit', 'and', 'add', 'about', '1.5', 'trillion', 'over', '10', 'year', 'to', 'the', '20', 'trillion', 'national', 'debt', 'it', 's', 'interest', 'to', 'hear', 'mark', 'talk', 'about', 'fiscal', 'responsibility', 'democratic', 'u.s.', 'representative', 'joseph', 'crowley', 'say', 'on', 'cbs', 'crowley', 'say', 'the', 'republican', 'tax', 'bill', 'would', 'require', 'the', 'united', 'state', 'to', 'borrow', '1.5', 'trillion', 'to', 'be', 'pay', 'off', 'by', 'future', 'generation', 'to', 'finance', 'tax', 'cut', 'for', 'corporation', 'and', 'the', 'rich', 'this', 'be', 'one', 'of', 'the', 'least', '...', 'fiscally', 'responsible', 'bill', 'we', 've', 'ever', 'see', 'pass', 'in', 'the', 'history', 'of', 'the', 'house', 'of', 'representative', 'i', 'think', 'we', 're', 'go', 'to', 'be', 'pay', 'for', 'this', 'for', 'many', 'many', 'year', 'to', 'come', 'crowley', 'say', 'republican', 'insist', 'the', 'tax', 'package', 'the', 'big', 'u.s.', 'tax', 'overhaul', 'in', 'more', 'than', '30', 'year', 'will', 'boost', 'the', 'economy', 'and', 'job', 'growth', 'house', 'speaker', 'paul', 'ryan', 'who', 'also', 'support', 'the', 'tax', 'bill', 'recently', 'go', 'further', 'than', 'meadow', 'make', 'clear', 'in', 'a', 'radio', 'interview', 'that', 'welfare', 'or', 'entitlement', 'reform', 'a', 'the', 'party', 'often', 'call', 'it', 'would', 'be', 'a', 'top', 'republican', 'priority', 'in', '2018', 'in', 'republican', 'parlance', 'entitlement', 'program', 'mean', 'food', 'stamp', 'housing', 'assistance', 'medicare', 'and', 'medicaid', 'health', 'insurance', 'for', 'the', 'elderly', 'poor', 'and', 'disable', 'as', 'well', 'a', 'other', 'program', 'create', 'by', 'washington', 'to', 'assist', 'the', 'needy', 'democrat', 'seize', 'on', 'ryan', 's', 'early', 'december', 'remark', 'say', 'they', 'show', 'republican', 'would', 'try', 'to', 'pay', 'for', 'their', 'tax', 'overhaul', 'by', 'seek', 'spending', 'cut', 'for', 'social', 'program', 'but', 'the', 'goal', 'of', 'house', 'republican', 'may', 'have', 'to', 'take', 'a', 'back', 'seat', 'to', 'the', 'senate', 'where', 'the', 'vote', 'of', 'some', 'democrat', 'will', 'be', 'need', 'to', 'approve', 'a', 'budget', 'and', 'prevent', 'a', 'government', 'shutdown', 'democrat', 'will', 'use', 'their', 'leverage', 'in', 'the', 'senate', 'which', 'republicans', 'narrowly', 'control', 'to', 'defend', 'both', 'discretionary', 'non-defense', 'program', 'and', 'social', 'spending', 'while', 'tackle', 'the', 'issue', 'of', 'the', 'dreamer', 'people', 'bring', 'illegally', 'to', 'the', 'country', 'a', 'child', 'trump', 'in', 'september', 'put', 'a', 'march', '2018', 'expiration', 'date', 'on', 'the', 'deferred', 'action', 'for', 'childhood', 'arrival', 'or', 'daca', 'program', 'which', 'protect', 'the', 'young', 'immigrant', 'from', 'deportation', 'and', 'provide', 'them', 'with', 'work', 'permit', 'the', 'president', 'have', 'say', 'in', 'recent', 'twitter', 'message', 'he', 'want', 'fund', 'for', 'his', 'propose', 'mexican', 'border', 'wall', 'and', 'other', 'immigration', 'law', 'change', 'in', 'exchange', 'for', 'agree', 'to', 'help', 'the', 'dreamer', 'representative', 'debbie', 'dingell', 'tell', 'cbs', 'she', 'do', 'not', 'favor', 'link', 'that', 'issue', 'to', 'other', 'policy', 'objective', 'such', 'a', 'wall', 'funding', 'we', 'need', 'to', 'do', 'daca', 'clean', 'she', 'say', 'on', 'wednesday', 'trump', 'aide', 'will', 'meet', 'with', 'congressional', 'leader', 'to', 'discuss', 'those', 'issue', 'that', 'will', 'be', 'follow', 'by', 'a', 'weekend', 'of', 'strategy', 'session', 'for', 'trump', 'and', 'republican', 'leader', 'on', 'jan.', '6', 'and', '7', 'the', 'white', 'house', 'say', 'trump', 'be', 'also', 'schedule', 'to', 'meet', 'on', 'sunday', 'with', 'florida', 'republican', 'governor', 'rick', 'scott', 'who', 'want', 'more', 'emergency', 'aid', 'the', 'house', 'have', 'pass', 'an', '81', 'billion', 'aid', 'package', 'after', 'hurricane', 'in', 'florida', 'texas', 'and', 'puerto', 'rico', 'and', 'wildfire', 'in', 'california', 'the', 'package', 'far', 'exceed', 'the', '44', 'billion', 'request', 'by', 'the', 'trump', 'administration', 'the', 'senate', 'have', 'not', 'yet', 'vote', 'on', 'the', 'aid']\n",
      "['washington', 'reuter', 'the', 'head', 'of', 'a', 'conserv', 'republican', 'faction', 'in', 'the', 'u.s.', 'congress', 'who', 'vote', 'this', 'month', 'for', 'a', 'huge', 'expans', 'of', 'the', 'nation', 'debt', 'to', 'pay', 'for', 'tax', 'cut', 'call', 'himself', 'a', 'fiscal', 'conserv', 'on', 'sunday', 'and', 'urg', 'budget', 'restraint', 'in', '2018', 'in', 'keep', 'with', 'a', 'sharp', 'pivot', 'under', 'way', 'among', 'republican', 'u.s.', 'repres', 'mark', 'meadow', 'speak', 'on', 'cbs', 'face', 'the', 'nation', 'drew', 'a', 'hard', 'line', 'on', 'feder', 'spend', 'which', 'lawmak', 'are', 'brace', 'to', 'do', 'battl', 'over', 'in', 'januari', 'when', 'they', 'return', 'from', 'the', 'holiday', 'on', 'wednesday', 'lawmak', 'will', 'begin', 'tri', 'to', 'pass', 'a', 'feder', 'budget', 'in', 'a', 'fight', 'like', 'to', 'be', 'link', 'to', 'other', 'issu', 'such', 'as', 'immigr', 'polici', 'even', 'as', 'the', 'novemb', 'congression', 'elect', 'campaign', 'approach', 'in', 'which', 'republican', 'will', 'seek', 'to', 'keep', 'control', 'of', 'congress', 'presid', 'donald', 'trump', 'and', 'his', 'republican', 'want', 'a', 'big', 'budget', 'increas', 'in', 'militari', 'spend', 'while', 'democrat', 'also', 'want', 'proport', 'increas', 'for', 'non-defens', 'discretionari', 'spend', 'on', 'program', 'that', 'support', 'educ', 'scientif', 'research', 'infrastructur', 'public', 'health', 'and', 'environment', 'protect', 'the', 'trump', 'administr', 'has', 'alreadi', 'been', 'will', 'to', 'say', '‘', 'we', 're', 'go', 'to', 'increas', 'non-defens', 'discretionari', 'spend', '...', 'by', 'about', '7', 'percent', 'meadow', 'chairman', 'of', 'the', 'small', 'but', 'influenti', 'hous', 'freedom', 'caucus', 'said', 'on', 'the', 'program', 'now', 'democrat', 'are', 'say', 'that', 's', 'not', 'enough', 'we', 'need', 'to', 'give', 'the', 'govern', 'a', 'pay', 'rais', 'of', '10', 'to', '11', 'percent', 'for', 'a', 'fiscal', 'conserv', 'i', 'don', 't', 'see', 'where', 'the', 'rational', 'is', '...', 'eventu', 'you', 'run', 'out', 'of', 'other', 'peopl', 's', 'money', 'he', 'said', 'meadow', 'was', 'among', 'republican', 'who', 'vote', 'in', 'late', 'decemb', 'for', 'their', 'parti', 's', 'debt-financ', 'tax', 'overhaul', 'which', 'is', 'expect', 'to', 'balloon', 'the', 'feder', 'budget', 'deficit', 'and', 'add', 'about', '1.5', 'trillion', 'over', '10', 'year', 'to', 'the', '20', 'trillion', 'nation', 'debt', 'it', 's', 'interest', 'to', 'hear', 'mark', 'talk', 'about', 'fiscal', 'respons', 'democrat', 'u.s.', 'repres', 'joseph', 'crowley', 'said', 'on', 'cbs', 'crowley', 'said', 'the', 'republican', 'tax', 'bill', 'would', 'requir', 'the', 'unit', 'state', 'to', 'borrow', '1.5', 'trillion', 'to', 'be', 'paid', 'off', 'by', 'futur', 'generat', 'to', 'financ', 'tax', 'cut', 'for', 'corpor', 'and', 'the', 'rich', 'this', 'is', 'one', 'of', 'the', 'least', '...', 'fiscal', 'respons', 'bill', 'we', 've', 'ever', 'seen', 'pass', 'in', 'the', 'histori', 'of', 'the', 'hous', 'of', 'repres', 'i', 'think', 'we', 're', 'go', 'to', 'be', 'pay', 'for', 'this', 'for', 'mani', 'mani', 'year', 'to', 'come', 'crowley', 'said', 'republican', 'insist', 'the', 'tax', 'packag', 'the', 'biggest', 'u.s.', 'tax', 'overhaul', 'in', 'more', 'than', '30', 'year', 'will', 'boost', 'the', 'economi', 'and', 'job', 'growth', 'hous', 'speaker', 'paul', 'ryan', 'who', 'also', 'support', 'the', 'tax', 'bill', 'recent', 'went', 'further', 'than', 'meadow', 'make', 'clear', 'in', 'a', 'radio', 'interview', 'that', 'welfar', 'or', 'entitl', 'reform', 'as', 'the', 'parti', 'often', 'call', 'it', 'would', 'be', 'a', 'top', 'republican', 'prioriti', 'in', '2018', 'in', 'republican', 'parlanc', 'entitl', 'program', 'mean', 'food', 'stamp', 'hous', 'assist', 'medicar', 'and', 'medicaid', 'health', 'insur', 'for', 'the', 'elder', 'poor', 'and', 'disabl', 'as', 'well', 'as', 'other', 'program', 'creat', 'by', 'washington', 'to', 'assist', 'the', 'needi', 'democrat', 'seiz', 'on', 'ryan', 's', 'earli', 'decemb', 'remark', 'say', 'they', 'show', 'republican', 'would', 'tri', 'to', 'pay', 'for', 'their', 'tax', 'overhaul', 'by', 'seek', 'spend', 'cut', 'for', 'social', 'program', 'but', 'the', 'goal', 'of', 'hous', 'republican', 'may', 'have', 'to', 'take', 'a', 'back', 'seat', 'to', 'the', 'senat', 'where', 'the', 'vote', 'of', 'some', 'democrat', 'will', 'be', 'need', 'to', 'approv', 'a', 'budget', 'and', 'prevent', 'a', 'govern', 'shutdown', 'democrat', 'will', 'use', 'their', 'leverag', 'in', 'the', 'senat', 'which', 'republican', 'narrowli', 'control', 'to', 'defend', 'both', 'discretionari', 'non-defens', 'program', 'and', 'social', 'spend', 'while', 'tackl', 'the', 'issu', 'of', 'the', 'dreamer', 'peopl', 'brought', 'illeg', 'to', 'the', 'countri', 'as', 'children', 'trump', 'in', 'septemb', 'put', 'a', 'march', '2018', 'expir', 'date', 'on', 'the', 'defer', 'action', 'for', 'childhood', 'arriv', 'or', 'daca', 'program', 'which', 'protect', 'the', 'young', 'immigr', 'from', 'deport', 'and', 'provid', 'them', 'with', 'work', 'permit', 'the', 'presid', 'has', 'said', 'in', 'recent', 'twitter', 'messag', 'he', 'want', 'fund', 'for', 'his', 'propos', 'mexican', 'border', 'wall', 'and', 'other', 'immigr', 'law', 'chang', 'in', 'exchang', 'for', 'agre', 'to', 'help', 'the', 'dreamer', 'repres', 'debbi', 'dingel', 'told', 'cbs', 'she', 'did', 'not', 'favor', 'link', 'that', 'issu', 'to', 'other', 'polici', 'object', 'such', 'as', 'wall', 'fund', 'we', 'need', 'to', 'do', 'daca', 'clean', 'she', 'said', 'on', 'wednesday', 'trump', 'aid', 'will', 'meet', 'with', 'congression', 'leader', 'to', 'discuss', 'those', 'issu', 'that', 'will', 'be', 'follow', 'by', 'a', 'weekend', 'of', 'strategi', 'session', 'for', 'trump', 'and', 'republican', 'leader', 'on', 'jan.', '6', 'and', '7', 'the', 'white', 'hous', 'said', 'trump', 'was', 'also', 'schedul', 'to', 'meet', 'on', 'sunday', 'with', 'florida', 'republican', 'governor', 'rick', 'scott', 'who', 'want', 'more', 'emerg', 'aid', 'the', 'hous', 'has', 'pass', 'an', '81', 'billion', 'aid', 'packag', 'after', 'hurrican', 'in', 'florida', 'texa', 'and', 'puerto', 'rico', 'and', 'wildfir', 'in', 'california', 'the', 'packag', 'far', 'exceed', 'the', '44', 'billion', 'request', 'by', 'the', 'trump', 'administr', 'the', 'senat', 'has', 'not', 'yet', 'vote', 'on', 'the', 'aid']\n"
     ]
    }
   ],
   "source": [
    "print(basic_word_tokenizer(text))\n",
    "print(lemmatization_tokenizer(text))\n",
    "print(stemming_tokenizer(text))"
   ]
  },
  {
   "cell_type": "markdown",
   "id": "fd96a7ab",
   "metadata": {},
   "source": [
    "#### with stopword removal:"
   ]
  },
  {
   "cell_type": "code",
   "execution_count": 7,
   "id": "1c288c95",
   "metadata": {},
   "outputs": [
    {
     "name": "stdout",
     "output_type": "stream",
     "text": [
      "['washington', 'reuters', 'head', 'conservative', 'republican', 'faction', 'u.s.', 'congress', 'voted', 'month', 'huge', 'expansion', 'national', 'debt', 'pay', 'tax', 'cuts', 'called', 'fiscal', 'conservative', 'sunday', 'urged', 'budget', 'restraint', '2018', 'keeping', 'sharp', 'pivot', 'way', 'among', 'republicans', 'u.s.', 'representative', 'mark', 'meadows', 'speaking', 'cbs', 'face', 'nation', 'drew', 'hard', 'line', 'federal', 'spending', 'lawmakers', 'bracing', 'battle', 'january', 'return', 'holidays', 'wednesday', 'lawmakers', 'begin', 'trying', 'pass', 'federal', 'budget', 'fight', 'likely', 'linked', 'issues', 'immigration', 'policy', 'even', 'november', 'congressional', 'election', 'campaigns', 'approach', 'republicans', 'seek', 'keep', 'control', 'congress', 'president', 'donald', 'trump', 'republicans', 'want', 'big', 'budget', 'increase', 'military', 'spending', 'democrats', 'also', 'want', 'proportional', 'increases', 'non-defense', 'discretionary', 'spending', 'programs', 'support', 'education', 'scientific', 'research', 'infrastructure', 'public', 'health', 'environmental', 'protection', 'trump', 'administration', 'already', 'willing', 'say', '‘', 'going', 'increase', 'non-defense', 'discretionary', 'spending', '...', '7', 'percent', 'meadows', 'chairman', 'small', 'influential', 'house', 'freedom', 'caucus', 'said', 'program', 'democrats', 'saying', 'enough', 'need', 'give', 'government', 'pay', 'raise', '10', '11', 'percent', 'fiscal', 'conservative', 'see', 'rationale', '...', 'eventually', 'run', 'people', 'money', 'said', 'meadows', 'among', 'republicans', 'voted', 'late', 'december', 'party', 'debt-financed', 'tax', 'overhaul', 'expected', 'balloon', 'federal', 'budget', 'deficit', 'add', '1.5', 'trillion', '10', 'years', '20', 'trillion', 'national', 'debt', 'interesting', 'hear', 'mark', 'talk', 'fiscal', 'responsibility', 'democratic', 'u.s.', 'representative', 'joseph', 'crowley', 'said', 'cbs', 'crowley', 'said', 'republican', 'tax', 'bill', 'would', 'require', 'united', 'states', 'borrow', '1.5', 'trillion', 'paid', 'future', 'generations', 'finance', 'tax', 'cuts', 'corporations', 'rich', 'one', 'least', '...', 'fiscally', 'responsible', 'bills', 'ever', 'seen', 'passed', 'history', 'house', 'representatives', 'think', 'going', 'paying', 'many', 'many', 'years', 'come', 'crowley', 'said', 'republicans', 'insist', 'tax', 'package', 'biggest', 'u.s.', 'tax', 'overhaul', '30', 'years', 'boost', 'economy', 'job', 'growth', 'house', 'speaker', 'paul', 'ryan', 'also', 'supported', 'tax', 'bill', 'recently', 'went', 'meadows', 'making', 'clear', 'radio', 'interview', 'welfare', 'entitlement', 'reform', 'party', 'often', 'calls', 'would', 'top', 'republican', 'priority', '2018', 'republican', 'parlance', 'entitlement', 'programs', 'mean', 'food', 'stamps', 'housing', 'assistance', 'medicare', 'medicaid', 'health', 'insurance', 'elderly', 'poor', 'disabled', 'well', 'programs', 'created', 'washington', 'assist', 'needy', 'democrats', 'seized', 'ryan', 'early', 'december', 'remarks', 'saying', 'showed', 'republicans', 'would', 'try', 'pay', 'tax', 'overhaul', 'seeking', 'spending', 'cuts', 'social', 'programs', 'goals', 'house', 'republicans', 'may', 'take', 'back', 'seat', 'senate', 'votes', 'democrats', 'needed', 'approve', 'budget', 'prevent', 'government', 'shutdown', 'democrats', 'use', 'leverage', 'senate', 'republicans', 'narrowly', 'control', 'defend', 'discretionary', 'non-defense', 'programs', 'social', 'spending', 'tackling', 'issue', 'dreamers', 'people', 'brought', 'illegally', 'country', 'children', 'trump', 'september', 'put', 'march', '2018', 'expiration', 'date', 'deferred', 'action', 'childhood', 'arrivals', 'daca', 'program', 'protects', 'young', 'immigrants', 'deportation', 'provides', 'work', 'permits', 'president', 'said', 'recent', 'twitter', 'messages', 'wants', 'funding', 'proposed', 'mexican', 'border', 'wall', 'immigration', 'law', 'changes', 'exchange', 'agreeing', 'help', 'dreamers', 'representative', 'debbie', 'dingell', 'told', 'cbs', 'favor', 'linking', 'issue', 'policy', 'objectives', 'wall', 'funding', 'need', 'daca', 'clean', 'said', 'wednesday', 'trump', 'aides', 'meet', 'congressional', 'leaders', 'discuss', 'issues', 'followed', 'weekend', 'strategy', 'sessions', 'trump', 'republican', 'leaders', 'jan.', '6', '7', 'white', 'house', 'said', 'trump', 'also', 'scheduled', 'meet', 'sunday', 'florida', 'republican', 'governor', 'rick', 'scott', 'wants', 'emergency', 'aid', 'house', 'passed', '81', 'billion', 'aid', 'package', 'hurricanes', 'florida', 'texas', 'puerto', 'rico', 'wildfires', 'california', 'package', 'far', 'exceeded', '44', 'billion', 'requested', 'trump', 'administration', 'senate', 'yet', 'voted', 'aid']\n",
      "['washington', 'reuters', 'head', 'conservative', 'republican', 'faction', 'u.s.', 'congress', 'vote', 'month', 'huge', 'expansion', 'national', 'debt', 'pay', 'tax', 'cut', 'call', 'fiscal', 'conservative', 'sunday', 'urge', 'budget', 'restraint', '2018', 'keep', 'sharp', 'pivot', 'way', 'among', 'republicans', 'u.s.', 'representative', 'mark', 'meadow', 'speak', 'cbs', 'face', 'nation', 'draw', 'hard', 'line', 'federal', 'spending', 'lawmaker', 'brace', 'battle', 'january', 'return', 'holiday', 'wednesday', 'lawmaker', 'begin', 'try', 'pas', 'federal', 'budget', 'fight', 'likely', 'link', 'issue', 'immigration', 'policy', 'even', 'november', 'congressional', 'election', 'campaign', 'approach', 'republicans', 'seek', 'keep', 'control', 'congress', 'president', 'donald', 'trump', 'republican', 'want', 'big', 'budget', 'increase', 'military', 'spending', 'democrat', 'also', 'want', 'proportional', 'increase', 'non-defense', 'discretionary', 'spending', 'program', 'support', 'education', 'scientific', 'research', 'infrastructure', 'public', 'health', 'environmental', 'protection', 'trump', 'administration', 'already', 'willing', 'say', '‘', 'go', 'increase', 'non-defense', 'discretionary', 'spending', '...', '7', 'percent', 'meadow', 'chairman', 'small', 'influential', 'house', 'freedom', 'caucus', 'say', 'program', 'democrat', 'say', 'enough', 'need', 'give', 'government', 'pay', 'raise', '10', '11', 'percent', 'fiscal', 'conservative', 'see', 'rationale', '...', 'eventually', 'run', 'people', 'money', 'say', 'meadow', 'among', 'republican', 'vote', 'late', 'december', 'party', 'debt-financed', 'tax', 'overhaul', 'expect', 'balloon', 'federal', 'budget', 'deficit', 'add', '1.5', 'trillion', '10', 'year', '20', 'trillion', 'national', 'debt', 'interesting', 'hear', 'mark', 'talk', 'fiscal', 'responsibility', 'democratic', 'u.s.', 'representative', 'joseph', 'crowley', 'say', 'cbs', 'crowley', 'say', 'republican', 'tax', 'bill', 'would', 'require', 'united', 'state', 'borrow', '1.5', 'trillion', 'pay', 'future', 'generation', 'finance', 'tax', 'cut', 'corporation', 'rich', 'one', 'least', '...', 'fiscally', 'responsible', 'bill', 'ever', 'see', 'pass', 'history', 'house', 'representative', 'think', 'go', 'pay', 'many', 'many', 'year', 'come', 'crowley', 'say', 'republican', 'insist', 'tax', 'package', 'big', 'u.s.', 'tax', 'overhaul', '30', 'year', 'boost', 'economy', 'job', 'growth', 'house', 'speaker', 'paul', 'ryan', 'also', 'support', 'tax', 'bill', 'recently', 'go', 'meadow', 'make', 'clear', 'radio', 'interview', 'welfare', 'entitlement', 'reform', 'party', 'often', 'call', 'would', 'top', 'republican', 'priority', '2018', 'republican', 'parlance', 'entitlement', 'program', 'mean', 'food', 'stamp', 'housing', 'assistance', 'medicare', 'medicaid', 'health', 'insurance', 'elderly', 'poor', 'disable', 'well', 'program', 'create', 'washington', 'assist', 'needy', 'democrat', 'seize', 'ryan', 'early', 'december', 'remark', 'say', 'show', 'republican', 'would', 'try', 'pay', 'tax', 'overhaul', 'seek', 'spending', 'cut', 'social', 'program', 'goal', 'house', 'republicans', 'may', 'take', 'back', 'seat', 'senate', 'vote', 'democrat', 'need', 'approve', 'budget', 'prevent', 'government', 'shutdown', 'democrat', 'use', 'leverage', 'senate', 'republicans', 'narrowly', 'control', 'defend', 'discretionary', 'non-defense', 'program', 'social', 'spending', 'tackle', 'issue', 'dreamer', 'people', 'bring', 'illegally', 'country', 'child', 'trump', 'september', 'put', 'march', '2018', 'expiration', 'date', 'defer', 'action', 'childhood', 'arrival', 'daca', 'program', 'protects', 'young', 'immigrant', 'deportation', 'provide', 'work', 'permit', 'president', 'say', 'recent', 'twitter', 'message', 'want', 'funding', 'propose', 'mexican', 'border', 'wall', 'immigration', 'law', 'change', 'exchange', 'agree', 'help', 'dreamer', 'representative', 'debbie', 'dingell', 'tell', 'cbs', 'favor', 'link', 'issue', 'policy', 'objectives', 'wall', 'funding', 'need', 'daca', 'clean', 'say', 'wednesday', 'trump', 'aide', 'meet', 'congressional', 'leader', 'discuss', 'issue', 'follow', 'weekend', 'strategy', 'session', 'trump', 'republican', 'leader', 'jan.', '6', '7', 'white', 'house', 'say', 'trump', 'also', 'schedule', 'meet', 'sunday', 'florida', 'republican', 'governor', 'rick', 'scott', 'want', 'emergency', 'aid', 'house', 'pass', '81', 'billion', 'aid', 'package', 'hurricane', 'florida', 'texas', 'puerto', 'rico', 'wildfire', 'california', 'package', 'far', 'exceed', '44', 'billion', 'request', 'trump', 'administration', 'senate', 'yet', 'vote', 'aid']\n",
      "['washington', 'reuter', 'head', 'conserv', 'republican', 'faction', 'u.s.', 'congress', 'vote', 'month', 'huge', 'expans', 'nation', 'debt', 'pay', 'tax', 'cut', 'call', 'fiscal', 'conserv', 'sunday', 'urg', 'budget', 'restraint', '2018', 'keep', 'sharp', 'pivot', 'way', 'among', 'republican', 'u.s.', 'repres', 'mark', 'meadow', 'speak', 'cbs', 'face', 'nation', 'drew', 'hard', 'line', 'feder', 'spend', 'lawmak', 'brace', 'battl', 'januari', 'return', 'holiday', 'wednesday', 'lawmak', 'begin', 'tri', 'pass', 'feder', 'budget', 'fight', 'like', 'link', 'issu', 'immigr', 'polici', 'even', 'novemb', 'congression', 'elect', 'campaign', 'approach', 'republican', 'seek', 'keep', 'control', 'congress', 'presid', 'donald', 'trump', 'republican', 'want', 'big', 'budget', 'increas', 'militari', 'spend', 'democrat', 'also', 'want', 'proport', 'increas', 'non-defens', 'discretionari', 'spend', 'program', 'support', 'educ', 'scientif', 'research', 'infrastructur', 'public', 'health', 'environment', 'protect', 'trump', 'administr', 'alreadi', 'will', 'say', '‘', 'go', 'increas', 'non-defens', 'discretionari', 'spend', '...', '7', 'percent', 'meadow', 'chairman', 'small', 'influenti', 'hous', 'freedom', 'caucus', 'said', 'program', 'democrat', 'say', 'enough', 'need', 'give', 'govern', 'pay', 'rais', '10', '11', 'percent', 'fiscal', 'conserv', 'see', 'rational', '...', 'eventu', 'run', 'peopl', 'money', 'said', 'meadow', 'among', 'republican', 'vote', 'late', 'decemb', 'parti', 'debt-financ', 'tax', 'overhaul', 'expect', 'balloon', 'feder', 'budget', 'deficit', 'add', '1.5', 'trillion', '10', 'year', '20', 'trillion', 'nation', 'debt', 'interest', 'hear', 'mark', 'talk', 'fiscal', 'respons', 'democrat', 'u.s.', 'repres', 'joseph', 'crowley', 'said', 'cbs', 'crowley', 'said', 'republican', 'tax', 'bill', 'would', 'requir', 'unit', 'state', 'borrow', '1.5', 'trillion', 'paid', 'futur', 'generat', 'financ', 'tax', 'cut', 'corpor', 'rich', 'one', 'least', '...', 'fiscal', 'respons', 'bill', 'ever', 'seen', 'pass', 'histori', 'hous', 'repres', 'think', 'go', 'pay', 'mani', 'mani', 'year', 'come', 'crowley', 'said', 'republican', 'insist', 'tax', 'packag', 'biggest', 'u.s.', 'tax', 'overhaul', '30', 'year', 'boost', 'economi', 'job', 'growth', 'hous', 'speaker', 'paul', 'ryan', 'also', 'support', 'tax', 'bill', 'recent', 'went', 'meadow', 'make', 'clear', 'radio', 'interview', 'welfar', 'entitl', 'reform', 'parti', 'often', 'call', 'would', 'top', 'republican', 'prioriti', '2018', 'republican', 'parlanc', 'entitl', 'program', 'mean', 'food', 'stamp', 'hous', 'assist', 'medicar', 'medicaid', 'health', 'insur', 'elder', 'poor', 'disabl', 'well', 'program', 'creat', 'washington', 'assist', 'needi', 'democrat', 'seiz', 'ryan', 'earli', 'decemb', 'remark', 'say', 'show', 'republican', 'would', 'tri', 'pay', 'tax', 'overhaul', 'seek', 'spend', 'cut', 'social', 'program', 'goal', 'hous', 'republican', 'may', 'take', 'back', 'seat', 'senat', 'vote', 'democrat', 'need', 'approv', 'budget', 'prevent', 'govern', 'shutdown', 'democrat', 'use', 'leverag', 'senat', 'republican', 'narrowli', 'control', 'defend', 'discretionari', 'non-defens', 'program', 'social', 'spend', 'tackl', 'issu', 'dreamer', 'peopl', 'brought', 'illeg', 'countri', 'children', 'trump', 'septemb', 'put', 'march', '2018', 'expir', 'date', 'defer', 'action', 'childhood', 'arriv', 'daca', 'program', 'protect', 'young', 'immigr', 'deport', 'provid', 'work', 'permit', 'presid', 'said', 'recent', 'twitter', 'messag', 'want', 'fund', 'propos', 'mexican', 'border', 'wall', 'immigr', 'law', 'chang', 'exchang', 'agre', 'help', 'dreamer', 'repres', 'debbi', 'dingel', 'told', 'cbs', 'favor', 'link', 'issu', 'polici', 'object', 'wall', 'fund', 'need', 'daca', 'clean', 'said', 'wednesday', 'trump', 'aid', 'meet', 'congression', 'leader', 'discuss', 'issu', 'follow', 'weekend', 'strategi', 'session', 'trump', 'republican', 'leader', 'jan.', '6', '7', 'white', 'hous', 'said', 'trump', 'also', 'schedul', 'meet', 'sunday', 'florida', 'republican', 'governor', 'rick', 'scott', 'want', 'emerg', 'aid', 'hous', 'pass', '81', 'billion', 'aid', 'packag', 'hurrican', 'florida', 'texa', 'puerto', 'rico', 'wildfir', 'california', 'packag', 'far', 'exceed', '44', 'billion', 'request', 'trump', 'administr', 'senat', 'yet', 'vote', 'aid']\n"
     ]
    }
   ],
   "source": [
    "from vectorization_and_tokenization import STOPWORDS_EN\n",
    "\n",
    "print(basic_word_tokenizer(text, stop_words=STOPWORDS_EN))\n",
    "print(lemmatization_tokenizer(text, stop_words=STOPWORDS_EN))\n",
    "print(stemming_tokenizer(text, stop_words=STOPWORDS_EN))"
   ]
  },
  {
   "cell_type": "markdown",
   "id": "dfb6fcfc",
   "metadata": {},
   "source": [
    "## 2. Examples: Vectorization"
   ]
  },
  {
   "cell_type": "code",
   "execution_count": 4,
   "id": "553e11b1",
   "metadata": {},
   "outputs": [],
   "source": [
    "from vectorization_and_tokenization import vectorize_text_data\n",
    "from courselib.utils.normalization import standardize"
   ]
  },
  {
   "cell_type": "code",
   "execution_count": 9,
   "id": "8de825d7",
   "metadata": {},
   "outputs": [],
   "source": [
    "max_features=5\n",
    "\n",
    "X, feature_names=vectorize_text_data(df, col_names=['title', 'text'], max_features_per_column=max_features, tokenizer=None)"
   ]
  },
  {
   "cell_type": "code",
   "execution_count": 10,
   "id": "faa4a807",
   "metadata": {},
   "outputs": [
    {
     "data": {
      "text/plain": [
       "array([[0.        , 0.        , 0.        , ..., 0.21994713, 0.72057681,\n",
       "        0.50237702],\n",
       "       [0.        , 0.        , 1.        , ..., 0.14057239, 0.76537666,\n",
       "        0.50436112],\n",
       "       [0.        , 0.        , 0.        , ..., 0.40430209, 0.73050876,\n",
       "        0.26677694],\n",
       "       ...,\n",
       "       [0.78321562, 0.        , 0.62175019, ..., 0.29624731, 0.70517685,\n",
       "        0.36502427],\n",
       "       [0.        , 0.        , 1.        , ..., 0.24418239, 0.64153826,\n",
       "        0.41431543],\n",
       "       [0.        , 1.        , 0.        , ..., 0.19803696, 0.78045118,\n",
       "        0.43402373]], shape=(44898, 10))"
      ]
     },
     "execution_count": 10,
     "metadata": {},
     "output_type": "execute_result"
    }
   ],
   "source": [
    "X"
   ]
  },
  {
   "cell_type": "code",
   "execution_count": 11,
   "id": "a2934371",
   "metadata": {},
   "outputs": [
    {
     "data": {
      "text/plain": [
       "{'title': array(['in', 'of', 'to', 'trump', 'video'], dtype=object),\n",
       " 'text': array(['and', 'in', 'of', 'the', 'to'], dtype=object)}"
      ]
     },
     "execution_count": 11,
     "metadata": {},
     "output_type": "execute_result"
    }
   ],
   "source": [
    "feature_names"
   ]
  },
  {
   "cell_type": "markdown",
   "id": "c3689882",
   "metadata": {},
   "source": [
    "####  with bag of words vectorization:"
   ]
  },
  {
   "cell_type": "code",
   "execution_count": 12,
   "id": "74db9812",
   "metadata": {},
   "outputs": [
    {
     "data": {
      "text/plain": [
       "array([[0, 0, 0, 0, 0],\n",
       "       [0, 0, 1, 0, 0],\n",
       "       [0, 0, 0, 0, 0],\n",
       "       ...,\n",
       "       [1, 0, 1, 0, 0],\n",
       "       [0, 0, 1, 0, 0],\n",
       "       [0, 1, 0, 0, 0]], shape=(44898, 5))"
      ]
     },
     "execution_count": 12,
     "metadata": {},
     "output_type": "execute_result"
    }
   ],
   "source": [
    "X, feature_names=vectorize_text_data(df,vectorization='bag_of_words', col_names=['title'], max_features_per_column=max_features)\n",
    "X"
   ]
  },
  {
   "cell_type": "markdown",
   "id": "36e5f376",
   "metadata": {},
   "source": [
    "#### with normalization of output vectors:"
   ]
  },
  {
   "cell_type": "code",
   "execution_count": 13,
   "id": "14a341f4",
   "metadata": {},
   "outputs": [
    {
     "data": {
      "text/plain": [
       "array([[-0.48115251, -0.44009197, -0.67932176, ..., -0.58940876,\n",
       "         0.1917217 ,  0.70638113],\n",
       "       [-0.48115251, -0.44009197,  1.90136318, ..., -1.14378776,\n",
       "         0.45105625,  0.71789513],\n",
       "       [-0.48115251, -0.44009197, -0.67932176, ...,  0.69818631,\n",
       "         0.2492151 , -0.66083466],\n",
       "       ...,\n",
       "       [ 1.88981099, -0.44009197,  0.92521959, ..., -0.05650344,\n",
       "         0.10257537, -0.09069354],\n",
       "       [-0.48115251, -0.44009197,  1.90136318, ..., -0.42014181,\n",
       "        -0.26581171,  0.19534906],\n",
       "       [-0.48115251,  2.79528734, -0.67932176, ..., -0.74243648,\n",
       "         0.53831866,  0.30971875]], shape=(44898, 10))"
      ]
     },
     "execution_count": 13,
     "metadata": {},
     "output_type": "execute_result"
    }
   ],
   "source": [
    "X, feature_names=vectorize_text_data(df, col_names=['title', 'text'], max_features_per_column=max_features, normalizer=standardize)\n",
    "X"
   ]
  },
  {
   "cell_type": "markdown",
   "id": "7eb803a7",
   "metadata": {},
   "source": [
    "#### with stop word removal:"
   ]
  },
  {
   "cell_type": "code",
   "execution_count": 14,
   "id": "7932fd81",
   "metadata": {},
   "outputs": [
    {
     "data": {
      "text/plain": [
       "{'title': array(['hillary', 'obama', 'says', 'trump', 'video'], dtype=object)}"
      ]
     },
     "execution_count": 14,
     "metadata": {},
     "output_type": "execute_result"
    }
   ],
   "source": [
    "X, feature_names=vectorize_text_data(df, col_names=['title'], max_features_per_column=max_features,  stop_words='english', normalizer=standardize)\n",
    "feature_names\n"
   ]
  },
  {
   "cell_type": "markdown",
   "id": "ded2e5bc",
   "metadata": {},
   "source": [
    "#### with custom tokenizer:"
   ]
  },
  {
   "cell_type": "code",
   "execution_count": 15,
   "id": "9cf5f276",
   "metadata": {},
   "outputs": [
    {
     "data": {
      "text/plain": [
       "{'title': array([\"'s\", 'say', 'trump', 'u.s.', 'video'], dtype=object)}"
      ]
     },
     "execution_count": 15,
     "metadata": {},
     "output_type": "execute_result"
    }
   ],
   "source": [
    "X, feature_names=vectorize_text_data(df, col_names=['title'], max_features_per_column=max_features,  stop_words='english', normalizer=standardize, tokenizer=stemming_tokenizer)\n",
    "feature_names"
   ]
  },
  {
   "cell_type": "markdown",
   "id": "d5a86ea0",
   "metadata": {},
   "source": [
    "## 3. Comparison of different tokenizers for vectorization"
   ]
  },
  {
   "cell_type": "code",
   "execution_count": 42,
   "id": "fc45bb97",
   "metadata": {},
   "outputs": [],
   "source": [
    "from courselib.utils.splits import train_test_split_np\n",
    "from courselib.utils.metrics import binary_accuracy\n",
    "from courselib.models.glm import LogisticRegression\n",
    "from courselib.models.svm import LinearSVM\n",
    "from courselib.optimizers import GDOptimizer\n"
   ]
  },
  {
   "cell_type": "code",
   "execution_count": 75,
   "id": "3f4c56b9",
   "metadata": {},
   "outputs": [],
   "source": [
    "tokenizers={'None': None, 'basic': basic_word_tokenizer, 'lemmatization': lemmatization_tokenizer, 'stemming': stemming_tokenizer}\n",
    "\n",
    "\n",
    "lr=0.01 # learining rate\n",
    "max_features=100 #maximal features to consider\n",
    "columns=['title']\n",
    "last_layers=[10,2]\n",
    "\n",
    "\n",
    "epochs=100 # number of epochs\n",
    "bs=100 # batch size\n",
    "training_data_fraction=.8\n",
    "\n",
    "optimizer=GDOptimizer(learning_rate=lr)\n",
    "    "
   ]
  },
  {
   "cell_type": "code",
   "execution_count": 76,
   "id": "c7d0846f",
   "metadata": {},
   "outputs": [],
   "source": [
    "from courselib.utils.splits import train_test_split\n",
    "from courselib.utils.preprocessing import labels_encoding\n",
    "\n",
    "\n",
    "training_data_fraction=.8\n",
    "df_, train_df, test_df=train_test_split(df, training_data_fraction=training_data_fraction, class_column_name='label', return_numpy=False)\n",
    "Y_train=train_df['label'].to_numpy()\n",
    "Y_test=test_df['label'].to_numpy()\n",
    "Y_train_neg=Y_train.copy()\n",
    "Y_train_neg[Y_train_neg==0]=-1\n",
    "Y_test_neg=Y_test.copy()\n",
    "Y_test_neg[Y_test_neg==0]=-1\n",
    "Y_train_encoded=labels_encoding(Y_train, neg_value=0)\n",
    "Y_test_encoded=labels_encoding(Y_test, neg_value=0)\n"
   ]
  },
  {
   "cell_type": "code",
   "execution_count": 77,
   "id": "3e9a7b27",
   "metadata": {},
   "outputs": [],
   "source": [
    "import time\n",
    "from vectorization_and_tokenization import multi_column_vectorizer\n",
    "\n",
    "\n",
    "vect_start=time.time()\n",
    "vectorizer=multi_column_vectorizer(col_names=columns,vectorization='bag_of_words',  max_features_per_column=max_features,ngram_range=(1,1), stop_words=None, tokenizer=None)\n",
    "X_train=vectorizer.fit_transform(train_df, sparse=False)\n",
    "X_test=vectorizer.transform(test_df, sparse=False)\n",
    "\n",
    "vect_end=time.time()"
   ]
  },
  {
   "cell_type": "code",
   "execution_count": 78,
   "id": "a224527c",
   "metadata": {},
   "outputs": [
    {
     "data": {
      "text/plain": [
       "array([[0, 0, 0, ..., 0, 1, 0],\n",
       "       [0, 0, 0, ..., 0, 0, 0],\n",
       "       [0, 0, 0, ..., 0, 0, 0],\n",
       "       ...,\n",
       "       [0, 0, 0, ..., 0, 0, 0],\n",
       "       [0, 0, 0, ..., 0, 0, 0],\n",
       "       [0, 0, 0, ..., 0, 0, 0]], shape=(44898, 100))"
      ]
     },
     "execution_count": 78,
     "metadata": {},
     "output_type": "execute_result"
    }
   ],
   "source": [
    "np.vstack([X_train, X_test])"
   ]
  },
  {
   "cell_type": "code",
   "execution_count": 81,
   "id": "72cad488",
   "metadata": {},
   "outputs": [
    {
     "name": "stdout",
     "output_type": "stream",
     "text": [
      "{'model': 'MLP', 'vectorization type': 'tf-idf', 'tokenizer': 'None', 'stop_words': None, 'ngram': (1, 1), 'train accuracy [%]': np.float64(77.39016649033911), 'test accuracy [%]': np.float64(77.8173719376392), 'vectorization time [s]': np.float64(1.01), 'training time [s]': np.float64(20.75)}\n"
     ]
    }
   ],
   "source": [
    "import time\n",
    "from vectorization_and_tokenization import multi_column_vectorizer\n",
    "from courselib.utils.metrics import accuracy\n",
    "from courselib.models.nn import MLP\n",
    "\n",
    "results=[]\n",
    "for ngrams in [(1,1)]:#,(1,2),(1,3)]:\n",
    "    for vectorization in ['tf-idf']:#, 'bag_of_words']:\n",
    "        for stop_words in [None]:#, 'english']:\n",
    "            for tok_name, tok in [('None',None)]: #tokenizers.items():\n",
    "                #Vectorize:\n",
    "                vect_start=time.time()\n",
    "                vectorizer=multi_column_vectorizer(col_names=columns,vectorization=vectorization,  max_features_per_column=max_features,ngram_range=ngrams, stop_words=stop_words, tokenizer=tok)\n",
    "                X_train=vectorizer.fit_transform(train_df,sparse=False)\n",
    "                X_test=vectorizer.transform(test_df, sparse=False)\n",
    "                X=np.vstack([X_train, X_test])\n",
    "                mean=np.mean(X, axis=0)\n",
    "                std=np.std(X, axis=0)\n",
    "                X_train=(X_train-mean)/std\n",
    "                X_test=(X_test-mean)/std\n",
    "                \n",
    "\n",
    "                vect_end=time.time()\n",
    "\n",
    "\n",
    "\n",
    "                #Logistic Regression\n",
    "                # Initialize model\n",
    "                w=np.zeros(X_train.shape[1]) # initial weights\n",
    "                b=0 # initial bias\n",
    "                model_lr=LogisticRegression(w,b,optimizer)\n",
    "                \n",
    "                #Train model\n",
    "                train_start=time.time()\n",
    "                model_lr.fit(X_train, Y_train, num_epochs=epochs, batch_size=bs)\n",
    "                train_end=time.time()\n",
    "                \n",
    "                #Evaluate:\n",
    "                train_accuracy=np.round(binary_accuracy(y_pred=model_lr(X_train), y_true=Y_train, class_labels=[0,1]), 4)\n",
    "                test_accuracy=np.round(binary_accuracy(y_pred=model_lr(X_test), y_true=Y_test, class_labels=[0,1]), 4)\n",
    "                \n",
    "                result_lr={'model': 'LogisticRegression',\n",
    "                    'vectorization type': vectorization,\n",
    "                    'tokenizer': tok_name,\n",
    "                    'stop_words': stop_words,\n",
    "                    'ngram': ngrams,\n",
    "                    'train accuracy [%]': train_accuracy,\n",
    "                    'test accuracy [%]': test_accuracy,\n",
    "                    'vectorization time [s]': np.round(vect_end-vect_start,2),\n",
    "                    'training time [s]': np.round(train_end-train_start,2)\n",
    "                    }\n",
    "                results.append(result_lr)\n",
    "\n",
    "\n",
    "                #SVM\n",
    "                # Initialize model\n",
    "                w=np.zeros(X_train.shape[1]) # initial weights\n",
    "                b=0 # initial bias\n",
    "                model_svm=LinearSVM(w,b,optimizer)\n",
    "                \n",
    "                #Train model\n",
    "                train_start=time.time()\n",
    "                model_svm.fit(X_train, Y_train_neg, num_epochs=epochs, batch_size=bs)\n",
    "                train_end=time.time()\n",
    "                \n",
    "                #Evaluate:\n",
    "                train_accuracy=np.round(binary_accuracy(y_pred=model_svm(X_train), y_true=Y_train_neg, class_labels=[-1,1]), 4)\n",
    "                test_accuracy=np.round(binary_accuracy(y_pred=model_svm(X_test), y_true=Y_test_neg, class_labels=[-1,1]), 4)\n",
    "                \n",
    "                result_svm={'model': 'Linear SVM',\n",
    "                    'vectorization type': vectorization,\n",
    "                    'tokenizer': tok_name,\n",
    "                    'stop_words': stop_words,\n",
    "                    'ngram': ngrams,\n",
    "                    'train accuracy [%]': train_accuracy,\n",
    "                    'test accuracy [%]': test_accuracy,\n",
    "                    'vectorization time [s]': np.round(vect_end-vect_start,2),\n",
    "                    'training time [s]': np.round(train_end-train_start,2)\n",
    "                    }\n",
    "                results.append(result_svm)\n",
    "                \n",
    "\n",
    "\n",
    "                #MLP\n",
    "                widths=[X_train.shape[1]]+last_layers\n",
    "                model_mlp=MLP(widths=widths, optimizer=optimizer)\n",
    "                train_start=time.time()\n",
    "                model_mlp.fit(X_train, Y_train_encoded, num_epochs=epochs, batch_size=bs)\n",
    "                train_end=time.time()\n",
    "                train_accuracy=accuracy(y_pred=model_mlp.decision_function(X_train), y_true=Y_train_encoded)\n",
    "                test_accuracy=accuracy(y_pred=model_mlp.decision_function(X_test), y_true=Y_test_encoded)\n",
    "\n",
    "                result_mlp={'model': 'MLP',\n",
    "                    'vectorization type': vectorization,\n",
    "                    'tokenizer': tok_name,\n",
    "                    'stop_words': stop_words,\n",
    "                    'ngram': ngrams,\n",
    "                    'train accuracy [%]': train_accuracy,\n",
    "                    'test accuracy [%]': test_accuracy,\n",
    "                    'vectorization time [s]': np.round(vect_end-vect_start,2),\n",
    "                    'training time [s]': np.round(train_end-train_start,2)\n",
    "                    }\n",
    "                results.append(result_mlp)\n",
    "                print(result_mlp)\n",
    "\n",
    "\n",
    "\n",
    "\n",
    "                "
   ]
  },
  {
   "cell_type": "code",
   "execution_count": 82,
   "id": "849006a4",
   "metadata": {},
   "outputs": [
    {
     "data": {
      "text/html": [
       "<div>\n",
       "<style scoped>\n",
       "    .dataframe tbody tr th:only-of-type {\n",
       "        vertical-align: middle;\n",
       "    }\n",
       "\n",
       "    .dataframe tbody tr th {\n",
       "        vertical-align: top;\n",
       "    }\n",
       "\n",
       "    .dataframe thead th {\n",
       "        text-align: right;\n",
       "    }\n",
       "</style>\n",
       "<table border=\"1\" class=\"dataframe\">\n",
       "  <thead>\n",
       "    <tr style=\"text-align: right;\">\n",
       "      <th></th>\n",
       "      <th>model</th>\n",
       "      <th>vectorization type</th>\n",
       "      <th>tokenizer</th>\n",
       "      <th>stop_words</th>\n",
       "      <th>ngram</th>\n",
       "      <th>train accuracy [%]</th>\n",
       "      <th>test accuracy [%]</th>\n",
       "      <th>vectorization time [s]</th>\n",
       "      <th>training time [s]</th>\n",
       "    </tr>\n",
       "  </thead>\n",
       "  <tbody>\n",
       "    <tr>\n",
       "      <th>0</th>\n",
       "      <td>LogisticRegression</td>\n",
       "      <td>tf-idf</td>\n",
       "      <td>None</td>\n",
       "      <td>None</td>\n",
       "      <td>(1, 1)</td>\n",
       "      <td>88.830100</td>\n",
       "      <td>88.418700</td>\n",
       "      <td>1.01</td>\n",
       "      <td>2.11</td>\n",
       "    </tr>\n",
       "    <tr>\n",
       "      <th>1</th>\n",
       "      <td>Linear SVM</td>\n",
       "      <td>tf-idf</td>\n",
       "      <td>None</td>\n",
       "      <td>None</td>\n",
       "      <td>(1, 1)</td>\n",
       "      <td>86.822800</td>\n",
       "      <td>86.648100</td>\n",
       "      <td>1.01</td>\n",
       "      <td>2.88</td>\n",
       "    </tr>\n",
       "    <tr>\n",
       "      <th>2</th>\n",
       "      <td>MLP</td>\n",
       "      <td>tf-idf</td>\n",
       "      <td>None</td>\n",
       "      <td>None</td>\n",
       "      <td>(1, 1)</td>\n",
       "      <td>77.390166</td>\n",
       "      <td>77.817372</td>\n",
       "      <td>1.01</td>\n",
       "      <td>20.75</td>\n",
       "    </tr>\n",
       "  </tbody>\n",
       "</table>\n",
       "</div>"
      ],
      "text/plain": [
       "                model vectorization type tokenizer stop_words   ngram  \\\n",
       "0  LogisticRegression             tf-idf      None       None  (1, 1)   \n",
       "1          Linear SVM             tf-idf      None       None  (1, 1)   \n",
       "2                 MLP             tf-idf      None       None  (1, 1)   \n",
       "\n",
       "   train accuracy [%]  test accuracy [%]  vectorization time [s]  \\\n",
       "0           88.830100          88.418700                    1.01   \n",
       "1           86.822800          86.648100                    1.01   \n",
       "2           77.390166          77.817372                    1.01   \n",
       "\n",
       "   training time [s]  \n",
       "0               2.11  \n",
       "1               2.88  \n",
       "2              20.75  "
      ]
     },
     "execution_count": 82,
     "metadata": {},
     "output_type": "execute_result"
    }
   ],
   "source": [
    "result_df=pd.DataFrame(results)\n",
    "result_df"
   ]
  },
  {
   "cell_type": "code",
   "execution_count": null,
   "id": "1d118033",
   "metadata": {},
   "outputs": [],
   "source": []
  }
 ],
 "metadata": {
  "kernelspec": {
   "display_name": "fakenews_detection",
   "language": "python",
   "name": "python3"
  },
  "language_info": {
   "codemirror_mode": {
    "name": "ipython",
    "version": 3
   },
   "file_extension": ".py",
   "mimetype": "text/x-python",
   "name": "python",
   "nbconvert_exporter": "python",
   "pygments_lexer": "ipython3",
   "version": "3.10.18"
  }
 },
 "nbformat": 4,
 "nbformat_minor": 5
}
